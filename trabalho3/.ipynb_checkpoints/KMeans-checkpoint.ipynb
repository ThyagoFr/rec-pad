{
 "cells": [
  {
   "cell_type": "markdown",
   "id": "virgin-slovakia",
   "metadata": {},
   "source": [
    "# Introdução ao Reconhecimento de Padrões, 2020.2, UFC/DETI\n",
    "## Trabalho 3\n",
    "\n",
    "Aluno : Thyago Freitas da Silva <br>\n",
    "Matrícula : 392035"
   ]
  },
  {
   "cell_type": "code",
   "execution_count": 28,
   "id": "knowing-emergency",
   "metadata": {},
   "outputs": [],
   "source": [
    "import numpy as np\n",
    "import operator\n",
    "import collections\n",
    "import pandas\n",
    "from random import randrange\n",
    "import matplotlib.pyplot as plt"
   ]
  },
  {
   "cell_type": "markdown",
   "id": "constitutional-theology",
   "metadata": {},
   "source": [
    "### Funções úteis durante o decorrer do relatório"
   ]
  },
  {
   "cell_type": "markdown",
   "id": "hindu-neutral",
   "metadata": {},
   "source": [
    "#### Calcular média de todas as colunas de uma matriz"
   ]
  },
  {
   "cell_type": "code",
   "execution_count": 13,
   "id": "residential-abortion",
   "metadata": {},
   "outputs": [],
   "source": [
    "def calc_mean(data):\n",
    "    return np.mean(np.array(data),axis=0)"
   ]
  },
  {
   "cell_type": "markdown",
   "id": "special-timing",
   "metadata": {},
   "source": [
    "#### Calcular mediana"
   ]
  },
  {
   "cell_type": "code",
   "execution_count": 14,
   "id": "expanded-berkeley",
   "metadata": {},
   "outputs": [],
   "source": [
    "def calc_median(array):\n",
    "    values = []\n",
    "    for v in array:\n",
    "        if v != '?':\n",
    "            v = int(v)\n",
    "            values.append(v)\n",
    "    return np.median(values)"
   ]
  },
  {
   "cell_type": "markdown",
   "id": "charged-silence",
   "metadata": {},
   "source": [
    "#### Normalizar dados"
   ]
  },
  {
   "cell_type": "code",
   "execution_count": 15,
   "id": "unknown-twelve",
   "metadata": {},
   "outputs": [],
   "source": [
    "def normalize(data):\n",
    "    columns = data.shape[1] - 1 #subtrai 1 para descartar coluna com classes\n",
    "    for c in range(columns):\n",
    "        min_v = np.min(data.iloc[:,c])\n",
    "        max_v = np.max(data.iloc[:,c])\n",
    "        data.iloc[:,c] = data.iloc[:,c].apply(lambda v : (v - min_v)/(max_v - min_v))\n",
    "    return data"
   ]
  },
  {
   "cell_type": "markdown",
   "id": "specialized-adjustment",
   "metadata": {},
   "source": [
    "#### Calcular matriz de espalhamento intra-clusters"
   ]
  },
  {
   "cell_type": "code",
   "execution_count": 16,
   "id": "optimum-chuck",
   "metadata": {},
   "outputs": [],
   "source": [
    "def within_cluster(results,data,centroids,k):\n",
    "    data = data.values.tolist()\n",
    "    s_w = []\n",
    "    n = len(data[0])\n",
    "    for k_value in range(k):\n",
    "        values = []\n",
    "        for index,v in enumerate(results):\n",
    "            if v == k_value:\n",
    "                mul = np.transpose(np.array(data[index]))-np.array(centroids[k_value])\n",
    "                values.append(np.outer(mul,np.transpose(mul)))\n",
    "        sum_k = np.zeros((n,n))\n",
    "        for v in values:\n",
    "            sum_k += v\n",
    "        s_w.append(sum_k)\n",
    "    result = np.zeros((n,n))\n",
    "    for s in s_w:\n",
    "        result += s\n",
    "    return result.tolist()"
   ]
  },
  {
   "cell_type": "markdown",
   "id": "sustained-words",
   "metadata": {},
   "source": [
    "#### Calcular matriz de espalhamento entre clusters"
   ]
  },
  {
   "cell_type": "code",
   "execution_count": 17,
   "id": "regular-windows",
   "metadata": {},
   "outputs": [],
   "source": [
    "def between_cluster(data,centroids,k):\n",
    "    data = data.values.tolist()\n",
    "    n = len(data[0])\n",
    "    u = calc_mean(data)\n",
    "    s_b = []\n",
    "    for k_value in range(k):\n",
    "        n_k = data.count(k_value)\n",
    "        first_term = np.transpose(np.array(centroids[k_value]) - u)\n",
    "        s_b.append(np.outer(first_term,np.transpose(first_term)))\n",
    "    result = np.zeros((n,n))\n",
    "    for s in s_b:\n",
    "        result += s\n",
    "    return result.tolist()"
   ]
  },
  {
   "cell_type": "markdown",
   "id": "exact-military",
   "metadata": {},
   "source": [
    "#### Índice de validação de clusters"
   ]
  },
  {
   "cell_type": "code",
   "execution_count": 18,
   "id": "assisted-proposition",
   "metadata": {},
   "outputs": [],
   "source": [
    "def J(data,R,K):\n",
    "    result = []\n",
    "    for k in range(1,K+1):\n",
    "        values = 0\n",
    "        for r in range(1,R+1):\n",
    "            kmeans = KMeansClassifier(k,r)\n",
    "            v = kmeans.fit_predict(data)\n",
    "            sw = within_cluster(v,data,kmeans.centroids,k)\n",
    "            sb = between_cluster(data,kmeans.centroids,k)\n",
    "            s = np.outer(np.linalg.inv(sw),sb)\n",
    "            values += s.trace()\n",
    "        result.append(values/R)\n",
    "    return result"
   ]
  },
  {
   "cell_type": "markdown",
   "id": "unusual-california",
   "metadata": {},
   "source": [
    "## Parte 0 : Banco de dados - Demartology"
   ]
  },
  {
   "cell_type": "markdown",
   "id": "marked-ticket",
   "metadata": {},
   "source": [
    "O banco de dados utilizado foi o \"Demartology\" que possui as seguintes características:\n",
    "\n",
    "<ul>\n",
    "<li>O arquivo CSV com os dados possui 35 colunas, sendo que a última coluna representa de forma numérica uma doenção demartológica.</li>\n",
    "<li>A coluna 33 (band-like infiltrate) apresenta valores inválidos e que precisam ser removidos ou processados.</li>\n",
    "<li>Temos 366 amostras no banco de dados.</li>\n",
    "<li>A coluna 34 representa uma doença demartológica de forma numérica(1 à 6), sendo elas :</li>\n",
    "    <ol>\n",
    "        <li>psoriasis</li>\n",
    "        <li>seboreic dermatitis</li>\n",
    "        <li>lichen planus</li>\n",
    "        <li>pityriasis rosea</li>\n",
    "        <li>cronic dermatitis</li>\n",
    "        <li>pityriasis rubra pilaris</li>\n",
    "    </ol>\n",
    "</ul>\n"
   ]
  },
  {
   "cell_type": "code",
   "execution_count": 19,
   "id": "urban-remedy",
   "metadata": {},
   "outputs": [
    {
     "data": {
      "text/html": [
       "<div>\n",
       "<style scoped>\n",
       "    .dataframe tbody tr th:only-of-type {\n",
       "        vertical-align: middle;\n",
       "    }\n",
       "\n",
       "    .dataframe tbody tr th {\n",
       "        vertical-align: top;\n",
       "    }\n",
       "\n",
       "    .dataframe thead th {\n",
       "        text-align: right;\n",
       "    }\n",
       "</style>\n",
       "<table border=\"1\" class=\"dataframe\">\n",
       "  <thead>\n",
       "    <tr style=\"text-align: right;\">\n",
       "      <th></th>\n",
       "      <th>0</th>\n",
       "      <th>1</th>\n",
       "      <th>2</th>\n",
       "      <th>3</th>\n",
       "      <th>4</th>\n",
       "      <th>5</th>\n",
       "      <th>6</th>\n",
       "      <th>7</th>\n",
       "      <th>8</th>\n",
       "      <th>9</th>\n",
       "      <th>...</th>\n",
       "      <th>25</th>\n",
       "      <th>26</th>\n",
       "      <th>27</th>\n",
       "      <th>28</th>\n",
       "      <th>29</th>\n",
       "      <th>30</th>\n",
       "      <th>31</th>\n",
       "      <th>32</th>\n",
       "      <th>33</th>\n",
       "      <th>34</th>\n",
       "    </tr>\n",
       "  </thead>\n",
       "  <tbody>\n",
       "    <tr>\n",
       "      <th>0</th>\n",
       "      <td>2</td>\n",
       "      <td>2</td>\n",
       "      <td>0</td>\n",
       "      <td>3</td>\n",
       "      <td>0</td>\n",
       "      <td>0</td>\n",
       "      <td>0</td>\n",
       "      <td>0</td>\n",
       "      <td>1</td>\n",
       "      <td>0</td>\n",
       "      <td>...</td>\n",
       "      <td>0</td>\n",
       "      <td>0</td>\n",
       "      <td>3</td>\n",
       "      <td>0</td>\n",
       "      <td>0</td>\n",
       "      <td>0</td>\n",
       "      <td>1</td>\n",
       "      <td>0</td>\n",
       "      <td>55</td>\n",
       "      <td>2</td>\n",
       "    </tr>\n",
       "    <tr>\n",
       "      <th>1</th>\n",
       "      <td>3</td>\n",
       "      <td>3</td>\n",
       "      <td>3</td>\n",
       "      <td>2</td>\n",
       "      <td>1</td>\n",
       "      <td>0</td>\n",
       "      <td>0</td>\n",
       "      <td>0</td>\n",
       "      <td>1</td>\n",
       "      <td>1</td>\n",
       "      <td>...</td>\n",
       "      <td>0</td>\n",
       "      <td>0</td>\n",
       "      <td>0</td>\n",
       "      <td>0</td>\n",
       "      <td>0</td>\n",
       "      <td>0</td>\n",
       "      <td>1</td>\n",
       "      <td>0</td>\n",
       "      <td>8</td>\n",
       "      <td>1</td>\n",
       "    </tr>\n",
       "    <tr>\n",
       "      <th>2</th>\n",
       "      <td>2</td>\n",
       "      <td>1</td>\n",
       "      <td>2</td>\n",
       "      <td>3</td>\n",
       "      <td>1</td>\n",
       "      <td>3</td>\n",
       "      <td>0</td>\n",
       "      <td>3</td>\n",
       "      <td>0</td>\n",
       "      <td>0</td>\n",
       "      <td>...</td>\n",
       "      <td>0</td>\n",
       "      <td>2</td>\n",
       "      <td>3</td>\n",
       "      <td>2</td>\n",
       "      <td>0</td>\n",
       "      <td>0</td>\n",
       "      <td>2</td>\n",
       "      <td>3</td>\n",
       "      <td>26</td>\n",
       "      <td>3</td>\n",
       "    </tr>\n",
       "    <tr>\n",
       "      <th>3</th>\n",
       "      <td>2</td>\n",
       "      <td>2</td>\n",
       "      <td>2</td>\n",
       "      <td>0</td>\n",
       "      <td>0</td>\n",
       "      <td>0</td>\n",
       "      <td>0</td>\n",
       "      <td>0</td>\n",
       "      <td>3</td>\n",
       "      <td>2</td>\n",
       "      <td>...</td>\n",
       "      <td>3</td>\n",
       "      <td>0</td>\n",
       "      <td>0</td>\n",
       "      <td>0</td>\n",
       "      <td>0</td>\n",
       "      <td>0</td>\n",
       "      <td>3</td>\n",
       "      <td>0</td>\n",
       "      <td>40</td>\n",
       "      <td>1</td>\n",
       "    </tr>\n",
       "    <tr>\n",
       "      <th>4</th>\n",
       "      <td>2</td>\n",
       "      <td>3</td>\n",
       "      <td>2</td>\n",
       "      <td>2</td>\n",
       "      <td>2</td>\n",
       "      <td>2</td>\n",
       "      <td>0</td>\n",
       "      <td>2</td>\n",
       "      <td>0</td>\n",
       "      <td>0</td>\n",
       "      <td>...</td>\n",
       "      <td>2</td>\n",
       "      <td>3</td>\n",
       "      <td>2</td>\n",
       "      <td>3</td>\n",
       "      <td>0</td>\n",
       "      <td>0</td>\n",
       "      <td>2</td>\n",
       "      <td>3</td>\n",
       "      <td>45</td>\n",
       "      <td>3</td>\n",
       "    </tr>\n",
       "  </tbody>\n",
       "</table>\n",
       "<p>5 rows × 35 columns</p>\n",
       "</div>"
      ],
      "text/plain": [
       "   0   1   2   3   4   5   6   7   8   9   ...  25  26  27  28  29  30  31  \\\n",
       "0   2   2   0   3   0   0   0   0   1   0  ...   0   0   3   0   0   0   1   \n",
       "1   3   3   3   2   1   0   0   0   1   1  ...   0   0   0   0   0   0   1   \n",
       "2   2   1   2   3   1   3   0   3   0   0  ...   0   2   3   2   0   0   2   \n",
       "3   2   2   2   0   0   0   0   0   3   2  ...   3   0   0   0   0   0   3   \n",
       "4   2   3   2   2   2   2   0   2   0   0  ...   2   3   2   3   0   0   2   \n",
       "\n",
       "   32  33  34  \n",
       "0   0  55   2  \n",
       "1   0   8   1  \n",
       "2   3  26   3  \n",
       "3   0  40   1  \n",
       "4   3  45   3  \n",
       "\n",
       "[5 rows x 35 columns]"
      ]
     },
     "execution_count": 19,
     "metadata": {},
     "output_type": "execute_result"
    }
   ],
   "source": [
    "data = pandas.read_csv(\"./data/dermatology.csv\", header=None)\n",
    "data.head()"
   ]
  },
  {
   "cell_type": "markdown",
   "id": "fresh-special",
   "metadata": {},
   "source": [
    "## Parte 1 : K-Means\n",
    "### Funcionamento do algoritmo"
   ]
  },
  {
   "cell_type": "markdown",
   "id": "indoor-involvement",
   "metadata": {},
   "source": [
    "\n",
    "<ol>\n",
    "<li>Escolher um número K que representa o numero de clusters e R como o número de interações do algoritmo.</li>\n",
    "<li>Escolher aleatóriamente K amostras do banco de dados e tratá-las como os centróides.</li>\n",
    "<li>Calcular a distância eculidiana de cada amostra para cada centróide escolhido.</li>\n",
    "<li>Associar cada amostra ao centróide mais pŕoximo, formando grupos.</li>\n",
    "<li>Após terminar o agrupamento, recalcular os centróides usando a média dos valores das amostras de cada grupo.\n",
    "</li>\n",
    "<li>Refazer a sequência de passos 3,4 e 5 R vezes ou até verificar que as amostras não mais mudam de centróides.</li>\n",
    "</ol>"
   ]
  },
  {
   "cell_type": "markdown",
   "id": "human-benchmark",
   "metadata": {},
   "source": [
    "### Validação do número de clusters usando o índice de validação"
   ]
  },
  {
   "cell_type": "markdown",
   "id": "impressed-degree",
   "metadata": {},
   "source": [
    "Podemos validar se escolhemos um bom valor para K com base no índice de validação que pode ser calculado utilizando a seguinte equação :"
   ]
  },
  {
   "cell_type": "markdown",
   "id": "scheduled-indonesia",
   "metadata": {},
   "source": [
    "$$ J_{a}(K) = traço(S^{-1}_{w}S_{b}) $$\n",
    "$$ S_{w} = \\sum_{k=1}^{K}\\sum_{x\\in C_{k}}^{K}(x - \\mu_{k})(x - \\mu_{k})^T $$\n",
    "$$ S_{b} = \\sum_{k=1}^{K}N_{k}(x - \\mu_{k})(x - \\mu_{k})^T $$"
   ]
  },
  {
   "cell_type": "markdown",
   "id": "dynamic-miniature",
   "metadata": {},
   "source": [
    "Onde :\n",
    "    \n",
    "<ul>\n",
    "    <li> $ S_{w} $ é a matriz de espalhamento intra-clusters</li>\n",
    "    <li> $ S_{b} $ é a matriz de espalhamento entre-clusters</li>\n",
    "    <li> $ K $ é o número de clusters</li>\n",
    "    <li> $ x $ é um membro do cluster $ C_{k} $</li>\n",
    "    <li> $ \\mu_{k} $ é o centróide do cluster $ C_{k} $</li>\n",
    "    <li> $ \\mu $ é a média de todo o banco de dados</li>\n",
    "    <li> $ N_{k} $ é o número de membros no cluster $ C_{k} $</li>\n",
    "</ul>"
   ]
  },
  {
   "cell_type": "markdown",
   "id": "radical-jefferson",
   "metadata": {},
   "source": [
    "Quanto maior o número J, melhor é o valor de K."
   ]
  },
  {
   "cell_type": "markdown",
   "id": "described-proof",
   "metadata": {},
   "source": [
    "### Implementacão do classificador \"K-Means\""
   ]
  },
  {
   "cell_type": "code",
   "execution_count": 25,
   "id": "failing-period",
   "metadata": {},
   "outputs": [],
   "source": [
    "norm_p = lambda x,y,p : abs((x-y))**p\n",
    "euclidian = lambda list1,list2: np.sqrt(sum(map(norm_p,list1,list2,[2]*len(list1))))\n",
    "\n",
    "class KMeansClassifier:\n",
    "    def __init__(self, K, R):\n",
    "        self.K = K\n",
    "        self.R = R\n",
    "        self.centroids = []\n",
    "    def fit_predict(self, x_train):\n",
    "        n = x_train.shape[0]\n",
    "        result = [0]*n\n",
    "        old = [0]*self.K\n",
    "        aux = 0\n",
    "        stop = False\n",
    "        idx = np.random.choice(len(x_train), self.K, replace=False)\n",
    "        for i in idx:\n",
    "            self.centroids.append(x_train.iloc[i,:].to_list())\n",
    "        while aux < self.R:\n",
    "            for row in range(n):\n",
    "                d = []\n",
    "                for c in range(self.K):\n",
    "                    d.append(euclidian(x_train.iloc[row,:].to_list(),self.centroids[c]))\n",
    "                result[row] = (d.index(min(d)))\n",
    "            converge = True\n",
    "            for x,y in zip(old,self.centroids):\n",
    "                for v1,v2 in zip(x,y):\n",
    "                    if v1 != v2:\n",
    "                        converge = False\n",
    "            if converge:\n",
    "                break\n",
    "            for c_n, c in enumerate(self.centroids):\n",
    "                values = []\n",
    "                values.append(c)\n",
    "                for index, r in enumerate(result):\n",
    "                    if r == c_n:\n",
    "                        values.append(x_train.iloc[index,:].to_list())\n",
    "                self.centroids[c_n] = calc_mean(values)\n",
    "            aux += 1\n",
    "            for r in range(len(self.centroids)):\n",
    "                old[r] = self.centroids[r]\n",
    "        return result"
   ]
  },
  {
   "cell_type": "markdown",
   "id": "aboriginal-ambassador",
   "metadata": {},
   "source": [
    "## Parte 1.1 : K-Means\n",
    "### Avaliação usando o índice de validação de clusters"
   ]
  },
  {
   "cell_type": "markdown",
   "id": "supreme-broadcast",
   "metadata": {},
   "source": [
    "#### Leitura da base \"demartology\""
   ]
  },
  {
   "cell_type": "code",
   "execution_count": 21,
   "id": "fixed-lithuania",
   "metadata": {
    "scrolled": true
   },
   "outputs": [
    {
     "data": {
      "text/html": [
       "<div>\n",
       "<style scoped>\n",
       "    .dataframe tbody tr th:only-of-type {\n",
       "        vertical-align: middle;\n",
       "    }\n",
       "\n",
       "    .dataframe tbody tr th {\n",
       "        vertical-align: top;\n",
       "    }\n",
       "\n",
       "    .dataframe thead th {\n",
       "        text-align: right;\n",
       "    }\n",
       "</style>\n",
       "<table border=\"1\" class=\"dataframe\">\n",
       "  <thead>\n",
       "    <tr style=\"text-align: right;\">\n",
       "      <th></th>\n",
       "      <th>0</th>\n",
       "      <th>1</th>\n",
       "      <th>2</th>\n",
       "      <th>3</th>\n",
       "      <th>4</th>\n",
       "      <th>5</th>\n",
       "      <th>6</th>\n",
       "      <th>7</th>\n",
       "      <th>8</th>\n",
       "      <th>9</th>\n",
       "      <th>...</th>\n",
       "      <th>25</th>\n",
       "      <th>26</th>\n",
       "      <th>27</th>\n",
       "      <th>28</th>\n",
       "      <th>29</th>\n",
       "      <th>30</th>\n",
       "      <th>31</th>\n",
       "      <th>32</th>\n",
       "      <th>33</th>\n",
       "      <th>34</th>\n",
       "    </tr>\n",
       "  </thead>\n",
       "  <tbody>\n",
       "    <tr>\n",
       "      <th>0</th>\n",
       "      <td>2</td>\n",
       "      <td>2</td>\n",
       "      <td>0</td>\n",
       "      <td>3</td>\n",
       "      <td>0</td>\n",
       "      <td>0</td>\n",
       "      <td>0</td>\n",
       "      <td>0</td>\n",
       "      <td>1</td>\n",
       "      <td>0</td>\n",
       "      <td>...</td>\n",
       "      <td>0</td>\n",
       "      <td>0</td>\n",
       "      <td>3</td>\n",
       "      <td>0</td>\n",
       "      <td>0</td>\n",
       "      <td>0</td>\n",
       "      <td>1</td>\n",
       "      <td>0</td>\n",
       "      <td>55</td>\n",
       "      <td>2</td>\n",
       "    </tr>\n",
       "    <tr>\n",
       "      <th>1</th>\n",
       "      <td>3</td>\n",
       "      <td>3</td>\n",
       "      <td>3</td>\n",
       "      <td>2</td>\n",
       "      <td>1</td>\n",
       "      <td>0</td>\n",
       "      <td>0</td>\n",
       "      <td>0</td>\n",
       "      <td>1</td>\n",
       "      <td>1</td>\n",
       "      <td>...</td>\n",
       "      <td>0</td>\n",
       "      <td>0</td>\n",
       "      <td>0</td>\n",
       "      <td>0</td>\n",
       "      <td>0</td>\n",
       "      <td>0</td>\n",
       "      <td>1</td>\n",
       "      <td>0</td>\n",
       "      <td>8</td>\n",
       "      <td>1</td>\n",
       "    </tr>\n",
       "    <tr>\n",
       "      <th>2</th>\n",
       "      <td>2</td>\n",
       "      <td>1</td>\n",
       "      <td>2</td>\n",
       "      <td>3</td>\n",
       "      <td>1</td>\n",
       "      <td>3</td>\n",
       "      <td>0</td>\n",
       "      <td>3</td>\n",
       "      <td>0</td>\n",
       "      <td>0</td>\n",
       "      <td>...</td>\n",
       "      <td>0</td>\n",
       "      <td>2</td>\n",
       "      <td>3</td>\n",
       "      <td>2</td>\n",
       "      <td>0</td>\n",
       "      <td>0</td>\n",
       "      <td>2</td>\n",
       "      <td>3</td>\n",
       "      <td>26</td>\n",
       "      <td>3</td>\n",
       "    </tr>\n",
       "    <tr>\n",
       "      <th>3</th>\n",
       "      <td>2</td>\n",
       "      <td>2</td>\n",
       "      <td>2</td>\n",
       "      <td>0</td>\n",
       "      <td>0</td>\n",
       "      <td>0</td>\n",
       "      <td>0</td>\n",
       "      <td>0</td>\n",
       "      <td>3</td>\n",
       "      <td>2</td>\n",
       "      <td>...</td>\n",
       "      <td>3</td>\n",
       "      <td>0</td>\n",
       "      <td>0</td>\n",
       "      <td>0</td>\n",
       "      <td>0</td>\n",
       "      <td>0</td>\n",
       "      <td>3</td>\n",
       "      <td>0</td>\n",
       "      <td>40</td>\n",
       "      <td>1</td>\n",
       "    </tr>\n",
       "    <tr>\n",
       "      <th>4</th>\n",
       "      <td>2</td>\n",
       "      <td>3</td>\n",
       "      <td>2</td>\n",
       "      <td>2</td>\n",
       "      <td>2</td>\n",
       "      <td>2</td>\n",
       "      <td>0</td>\n",
       "      <td>2</td>\n",
       "      <td>0</td>\n",
       "      <td>0</td>\n",
       "      <td>...</td>\n",
       "      <td>2</td>\n",
       "      <td>3</td>\n",
       "      <td>2</td>\n",
       "      <td>3</td>\n",
       "      <td>0</td>\n",
       "      <td>0</td>\n",
       "      <td>2</td>\n",
       "      <td>3</td>\n",
       "      <td>45</td>\n",
       "      <td>3</td>\n",
       "    </tr>\n",
       "  </tbody>\n",
       "</table>\n",
       "<p>5 rows × 35 columns</p>\n",
       "</div>"
      ],
      "text/plain": [
       "   0   1   2   3   4   5   6   7   8   9   ...  25  26  27  28  29  30  31  \\\n",
       "0   2   2   0   3   0   0   0   0   1   0  ...   0   0   3   0   0   0   1   \n",
       "1   3   3   3   2   1   0   0   0   1   1  ...   0   0   0   0   0   0   1   \n",
       "2   2   1   2   3   1   3   0   3   0   0  ...   0   2   3   2   0   0   2   \n",
       "3   2   2   2   0   0   0   0   0   3   2  ...   3   0   0   0   0   0   3   \n",
       "4   2   3   2   2   2   2   0   2   0   0  ...   2   3   2   3   0   0   2   \n",
       "\n",
       "   32  33  34  \n",
       "0   0  55   2  \n",
       "1   0   8   1  \n",
       "2   3  26   3  \n",
       "3   0  40   1  \n",
       "4   3  45   3  \n",
       "\n",
       "[5 rows x 35 columns]"
      ]
     },
     "execution_count": 21,
     "metadata": {},
     "output_type": "execute_result"
    }
   ],
   "source": [
    "data = pandas.read_csv(\"./data/dermatology.csv\", header=None)\n",
    "data.head()"
   ]
  },
  {
   "cell_type": "markdown",
   "id": "activated-wonder",
   "metadata": {},
   "source": [
    "#### Pré-processamento"
   ]
  },
  {
   "cell_type": "markdown",
   "id": "changing-danish",
   "metadata": {
    "scrolled": true
   },
   "source": [
    "Como informado anteriormente, a coluna 33 do banco de dados possui valores inválidos que atrapalham a execução do algoritmo, logo, afim de evitar a remoção da amostras que possuem esse problema, foi adotado a heurística de substituir os valores inválidos,pontos de interrogação,pela mediana da coluna. A mediana foi escolhida por ser menos sensível a outliers se comparada com a média, por exemplo."
   ]
  },
  {
   "cell_type": "code",
   "execution_count": 22,
   "id": "individual-invasion",
   "metadata": {},
   "outputs": [],
   "source": [
    "median = calc_median(data.iloc[:,33])\n",
    "data.iloc[:,33] = list(map(lambda value: median if value == '?' else value, data.iloc[:,33]))\n",
    "data.iloc[:,33] = data.iloc[:,33].astype(np.int64)"
   ]
  },
  {
   "cell_type": "markdown",
   "id": "fundamental-logistics",
   "metadata": {},
   "source": [
    "Outro fator que pode atrapalhar o desempenho do algoritomo é o fato de que as colunas possuem dimensões diferentes,consequentemente valores muito diferentes. Logo, para solucionar esse problema, o banco de dados foi normalizado fazendo com que os valores fiquem entre 0 e 1 para todas as colunas de atributos, fazendo com que todas as colunas tenham o \"mesmo peso\"."
   ]
  },
  {
   "cell_type": "code",
   "execution_count": 23,
   "id": "necessary-chambers",
   "metadata": {},
   "outputs": [],
   "source": [
    "data = normalize(data)\n",
    "features = data.iloc[:,:33]\n",
    "classes = data.iloc[:,34]"
   ]
  },
  {
   "cell_type": "markdown",
   "id": "demanding-devon",
   "metadata": {},
   "source": [
    "#### Obtendo os valores de J para K indo de 1 até 15, e R igual a 30."
   ]
  },
  {
   "cell_type": "code",
   "execution_count": 26,
   "id": "disabled-resistance",
   "metadata": {},
   "outputs": [],
   "source": [
    "j_values = J(features,30,15)"
   ]
  },
  {
   "cell_type": "markdown",
   "id": "sharing-affair",
   "metadata": {},
   "source": [
    "#### Visualizando a variação de J com base no valor de K"
   ]
  },
  {
   "cell_type": "code",
   "execution_count": 53,
   "id": "dominican-wholesale",
   "metadata": {
    "scrolled": false
   },
   "outputs": [
    {
     "data": {
      "text/plain": [
       "[<matplotlib.lines.Line2D at 0x7f633b120ee0>]"
      ]
     },
     "execution_count": 53,
     "metadata": {},
     "output_type": "execute_result"
    },
    {
     "data": {
      "image/png": "[encoded data removed]",
      "text/plain": [
       "<Figure size 432x288 with 1 Axes>"
      ]
     },
     "metadata": {
      "needs_background": "light"
     },
     "output_type": "display_data"
    }
   ],
   "source": [
    "plt.plot(range(1,16),j_values)"
   ]
  },
  {
   "cell_type": "markdown",
   "id": "desirable-bridges",
   "metadata": {},
   "source": [
    "Pelo gráfico temos que o melhor valor de K é 14. Para conferir podemos usar o método do objeto list que retorna o index(que se somarmos 1 representa o valor de K usado) que possui o maior valor de J."
   ]
  },
  {
   "cell_type": "code",
   "execution_count": 61,
   "id": "surrounded-destruction",
   "metadata": {},
   "outputs": [
    {
     "name": "stdout",
     "output_type": "stream",
     "text": [
      "15\n"
     ]
    }
   ],
   "source": [
    "print(j_values.index(max(j_values)) + 1)"
   ]
  }
 ],
 "metadata": {
  "kernelspec": {
   "display_name": "Python 3",
   "language": "python",
   "name": "python3"
  },
  "language_info": {
   "codemirror_mode": {
    "name": "ipython",
    "version": 3
   },
   "file_extension": ".py",
   "mimetype": "text/x-python",
   "name": "python",
   "nbconvert_exporter": "python",
   "pygments_lexer": "ipython3",
   "version": "3.8.5"
  }
 },
 "nbformat": 4,
 "nbformat_minor": 5
}
