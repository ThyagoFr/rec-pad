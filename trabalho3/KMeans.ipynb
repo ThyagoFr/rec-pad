{
 "cells": [
  {
   "cell_type": "markdown",
   "id": "applied-summer",
   "metadata": {},
   "source": [
    "# Introdução ao Reconhecimento de Padrões, 2020.2, UFC/DETI\n",
    "## Trabalho 3\n",
    "\n",
    "Aluno : Thyago Freitas da Silva <br>\n",
    "Matrícula : 392035"
   ]
  },
  {
   "cell_type": "code",
   "execution_count": 1,
   "id": "provincial-sherman",
   "metadata": {},
   "outputs": [],
   "source": [
    "import numpy as np\n",
    "import operator\n",
    "import collections\n",
    "import pandas\n",
    "from random import randrange\n",
    "from sklearn.metrics import confusion_matrix as cm"
   ]
  },
  {
   "cell_type": "markdown",
   "id": "geographic-dispute",
   "metadata": {},
   "source": [
    "### Scatter matrix helpers"
   ]
  },
  {
   "cell_type": "code",
   "execution_count": 31,
   "id": "coastal-fundamentals",
   "metadata": {},
   "outputs": [],
   "source": [
    "def calc_mean(data):\n",
    "    return np.mean(np.array(data),axis=0)\n",
    "\n",
    "def within_cluster(results,data,centroids,k):\n",
    "    data = data.values.tolist()\n",
    "    s_w = []\n",
    "    n = len(data[0])\n",
    "    for k_value in range(k):\n",
    "        values = []\n",
    "        for index,v in enumerate(results):\n",
    "            if v == k_value:\n",
    "                mul = np.transpose(np.array(data[index]))-np.array(centroids[k_value])\n",
    "                values.append(np.outer(mul,np.transpose(mul)))\n",
    "        sum_k = np.zeros((n,n))\n",
    "        for v in values:\n",
    "            sum_k += v\n",
    "        s_w.append(sum_k)\n",
    "    result = np.zeros((n,n))\n",
    "    for s in s_w:\n",
    "        result += s\n",
    "    return result.tolist()\n",
    "\n",
    "def between_cluster(data,centroids,k):\n",
    "    data = data.values.tolist()\n",
    "    n = len(data[0])\n",
    "    u = calc_mean(data)\n",
    "    s_b = []\n",
    "    for k_value in range(k):\n",
    "        n_k = data.count(k_value)\n",
    "        first_term = np.transpose(np.array(centroids[k_value]) - u)\n",
    "        s_b.append(np.outer(first_term,np.transpose(first_term)))\n",
    "    result = np.zeros((n,n))\n",
    "    for s in s_b:\n",
    "        result += s\n",
    "    return result.tolist()"
   ]
  },
  {
   "cell_type": "markdown",
   "id": "professional-technology",
   "metadata": {},
   "source": [
    "### Implementacão do classificador \"K-Means\""
   ]
  },
  {
   "cell_type": "code",
   "execution_count": 75,
   "id": "extensive-pakistan",
   "metadata": {},
   "outputs": [],
   "source": [
    "norm_p = lambda x,y,p : abs((x-y))**p\n",
    "euclidian = lambda list1,list2: np.sqrt(sum(map(norm_p,list1,list2,[2]*len(list1))))\n",
    "\n",
    "class KMeansClassifier:\n",
    "    def __init__(self, K, R):\n",
    "        self.K = K\n",
    "        self.R = R\n",
    "        self.centroids = []\n",
    "    def fit_predict(self, x_train):\n",
    "        n = x_train.shape[0]\n",
    "        result = [0]*n\n",
    "        old = [0]*n\n",
    "        aux = 0\n",
    "        stop = False\n",
    "        #idx = np.random.choice(len(x_train), self.K, replace=False)\n",
    "        #for i in idx:\n",
    "        #    self.centroids.append(x_train.iloc[i,:].to_list())\n",
    "        for i in range(self.K):\n",
    "            self.centroids.append(x_train.iloc[i,:].to_list())\n",
    "        while aux < self.R:\n",
    "            for row in range(n):\n",
    "                d = []\n",
    "                for c in range(self.K):\n",
    "                    d.append(euclidian(x_train.iloc[row,:].to_list(),self.centroids[c]))\n",
    "                result[row] = (d.index(min(d)))\n",
    "            converge = True\n",
    "            for x,y in zip(old,result):\n",
    "                if x!=y:\n",
    "                    converge = False\n",
    "            if converge:\n",
    "                break\n",
    "            for c_n, c in enumerate(self.centroids):\n",
    "                values = []\n",
    "                values.append(c)\n",
    "                for index, r in enumerate(result):\n",
    "                    if r == c_n:\n",
    "                        values.append(x_train.iloc[index,:].to_list())\n",
    "                self.centroids[c_n] = calc_mean(values)\n",
    "            aux += 1\n",
    "            for r in range(len(result)):\n",
    "                old[r] = result[r]\n",
    "        print(\"K : {0}, \\t R : {1} \\t Parou com R igual a : {2}\".format(self.K,self.R,aux))\n",
    "        return result"
   ]
  },
  {
   "cell_type": "markdown",
   "id": "sunrise-message",
   "metadata": {},
   "source": [
    "### Leitura da base \"demartology\""
   ]
  },
  {
   "cell_type": "code",
   "execution_count": 18,
   "id": "rural-plane",
   "metadata": {
    "scrolled": true
   },
   "outputs": [
    {
     "name": "stdout",
     "output_type": "stream",
     "text": [
      "<class 'pandas.core.frame.DataFrame'>\n",
      "RangeIndex: 366 entries, 0 to 365\n",
      "Data columns (total 35 columns):\n",
      " #   Column  Non-Null Count  Dtype \n",
      "---  ------  --------------  ----- \n",
      " 0   0       366 non-null    int64 \n",
      " 1   1       366 non-null    int64 \n",
      " 2   2       366 non-null    int64 \n",
      " 3   3       366 non-null    int64 \n",
      " 4   4       366 non-null    int64 \n",
      " 5   5       366 non-null    int64 \n",
      " 6   6       366 non-null    int64 \n",
      " 7   7       366 non-null    int64 \n",
      " 8   8       366 non-null    int64 \n",
      " 9   9       366 non-null    int64 \n",
      " 10  10      366 non-null    int64 \n",
      " 11  11      366 non-null    int64 \n",
      " 12  12      366 non-null    int64 \n",
      " 13  13      366 non-null    int64 \n",
      " 14  14      366 non-null    int64 \n",
      " 15  15      366 non-null    int64 \n",
      " 16  16      366 non-null    int64 \n",
      " 17  17      366 non-null    int64 \n",
      " 18  18      366 non-null    int64 \n",
      " 19  19      366 non-null    int64 \n",
      " 20  20      366 non-null    int64 \n",
      " 21  21      366 non-null    int64 \n",
      " 22  22      366 non-null    int64 \n",
      " 23  23      366 non-null    int64 \n",
      " 24  24      366 non-null    int64 \n",
      " 25  25      366 non-null    int64 \n",
      " 26  26      366 non-null    int64 \n",
      " 27  27      366 non-null    int64 \n",
      " 28  28      366 non-null    int64 \n",
      " 29  29      366 non-null    int64 \n",
      " 30  30      366 non-null    int64 \n",
      " 31  31      366 non-null    int64 \n",
      " 32  32      366 non-null    int64 \n",
      " 33  33      366 non-null    object\n",
      " 34  34      366 non-null    int64 \n",
      "dtypes: int64(34), object(1)\n",
      "memory usage: 100.2+ KB\n"
     ]
    }
   ],
   "source": [
    "data = pandas.read_csv(\"./data/dermatology.csv\", header=None)\n",
    "data.info()"
   ]
  },
  {
   "cell_type": "markdown",
   "id": "paperback-eleven",
   "metadata": {},
   "source": [
    "#### Pre-processamento\n",
    "\n",
    "Olhando o conteúdo do arquivo, foi notado que algumas linhas da coluna 33 (band-like infiltrate) apresentam valores marcados com \"?\" que atrapalham o resultado do algoritmo. Para remediar esse problema , decidi trocar os valores faltantes demarcados por \"?\" pela mediana da coluna 33, pois tal medida é menos sensível a outliers se comparado com a média, por exemplo."
   ]
  },
  {
   "cell_type": "code",
   "execution_count": 19,
   "id": "weird-accountability",
   "metadata": {},
   "outputs": [],
   "source": [
    "def calc_median(array):\n",
    "    values = []\n",
    "    for v in array:\n",
    "        if v != '?':\n",
    "            v = int(v)\n",
    "            values.append(v)\n",
    "    return np.median(values)\n",
    "\n",
    "median = calc_median(data.iloc[:,33])\n",
    "data.iloc[:,33] = list(map(lambda value: median if value == '?' else value, data.iloc[:,33]))\n",
    "data.iloc[:,33] = data.iloc[:,33].astype(np.int64)"
   ]
  },
  {
   "cell_type": "markdown",
   "id": "postal-davis",
   "metadata": {},
   "source": [
    "#### Normalizar dados"
   ]
  },
  {
   "cell_type": "code",
   "execution_count": 20,
   "id": "frozen-alert",
   "metadata": {},
   "outputs": [],
   "source": [
    "def normalize(data):\n",
    "    columns = data.shape[1] - 1 #subtrai 1 para descartar coluna com classes\n",
    "    for c in range(columns):\n",
    "        min_v = np.min(data.iloc[:,c])\n",
    "        max_v = np.max(data.iloc[:,c])\n",
    "        data.iloc[:,c] = data.iloc[:,c].apply(lambda v : (v - min_v)/(max_v - min_v))\n",
    "    return data\n",
    "\n",
    "data = normalize(data)"
   ]
  },
  {
   "cell_type": "markdown",
   "id": "boxed-reproduction",
   "metadata": {},
   "source": [
    "#### Separar dados em atributos e classes de saída"
   ]
  },
  {
   "cell_type": "code",
   "execution_count": 21,
   "id": "frozen-russia",
   "metadata": {},
   "outputs": [],
   "source": [
    "atributes = data.iloc[:,:34]\n",
    "target = data.iloc[:,34]"
   ]
  },
  {
   "cell_type": "code",
   "execution_count": null,
   "id": "fitted-hawaii",
   "metadata": {
    "scrolled": true
   },
   "outputs": [],
   "source": [
    "def J(data,R,K):\n",
    "    result = []\n",
    "    for k in range(1,K+1):\n",
    "        values = 0\n",
    "        for r in range(1,R+1):\n",
    "            kmeans = KMeansClassifier(k,r)\n",
    "            v = kmeans.fit_predict(data)\n",
    "            sw = within_cluster(v,data,kmeans.centroids,k)\n",
    "            sb = between_cluster(data,kmeans.centroids,k)\n",
    "            s = np.outer(np.linalg.inv(sw),sb)\n",
    "            values += s.trace()\n",
    "        result.append(values/R)\n",
    "    return result"
   ]
  },
  {
   "cell_type": "code",
   "execution_count": 73,
   "id": "necessary-sample",
   "metadata": {},
   "outputs": [
    {
     "name": "stdout",
     "output_type": "stream",
     "text": [
      "K : 1, \t R : 1 \t Convergiu antes de R :\n",
      "K : 1, \t R : 2 \t Convergiu antes de R :\n",
      "K : 1, \t R : 3 \t Convergiu antes de R :\n",
      "K : 1, \t R : 4 \t Convergiu antes de R :\n",
      "K : 1, \t R : 5 \t Convergiu antes de R :\n",
      "K : 1, \t R : 6 \t Convergiu antes de R :\n",
      "K : 1, \t R : 7 \t Convergiu antes de R :\n",
      "K : 1, \t R : 8 \t Convergiu antes de R :\n",
      "K : 1, \t R : 9 \t Convergiu antes de R :\n",
      "K : 1, \t R : 10 \t Convergiu antes de R :\n",
      "K : 1, \t R : 11 \t Convergiu antes de R :\n",
      "K : 1, \t R : 12 \t Convergiu antes de R :\n",
      "K : 1, \t R : 13 \t Convergiu antes de R :\n",
      "K : 1, \t R : 14 \t Convergiu antes de R :\n",
      "K : 1, \t R : 15 \t Convergiu antes de R :\n",
      "K : 1, \t R : 16 \t Convergiu antes de R :\n",
      "K : 1, \t R : 17 \t Convergiu antes de R :\n",
      "K : 1, \t R : 18 \t Convergiu antes de R :\n",
      "K : 1, \t R : 19 \t Convergiu antes de R :\n",
      "K : 1, \t R : 20 \t Convergiu antes de R :\n",
      "K : 1, \t R : 21 \t Convergiu antes de R :\n",
      "K : 1, \t R : 22 \t Convergiu antes de R :\n",
      "K : 1, \t R : 23 \t Convergiu antes de R :\n",
      "K : 1, \t R : 24 \t Convergiu antes de R :\n",
      "K : 1, \t R : 25 \t Convergiu antes de R :\n",
      "K : 1, \t R : 26 \t Convergiu antes de R :\n",
      "K : 1, \t R : 27 \t Convergiu antes de R :\n",
      "K : 1, \t R : 28 \t Convergiu antes de R :\n",
      "K : 1, \t R : 29 \t Convergiu antes de R :\n",
      "K : 1, \t R : 30 \t Convergiu antes de R :\n",
      "K : 2, \t R : 1 \t Convergiu antes de R :\n",
      "K : 2, \t R : 2 \t Convergiu antes de R :\n",
      "K : 2, \t R : 3 \t Convergiu antes de R :\n",
      "K : 2, \t R : 4 \t Convergiu antes de R :\n",
      "K : 2, \t R : 5 \t Convergiu antes de R :\n",
      "K : 2, \t R : 6 \t Convergiu antes de R :\n",
      "K : 2, \t R : 7 \t Convergiu antes de R :\n",
      "K : 2, \t R : 8 \t Convergiu antes de R :\n",
      "K : 2, \t R : 9 \t Convergiu antes de R :\n",
      "K : 2, \t R : 10 \t Convergiu antes de R :\n",
      "K : 2, \t R : 11 \t Convergiu antes de R :\n",
      "K : 2, \t R : 12 \t Convergiu antes de R :\n",
      "K : 2, \t R : 13 \t Convergiu antes de R :\n",
      "K : 2, \t R : 14 \t Convergiu antes de R :\n",
      "K : 2, \t R : 15 \t Convergiu antes de R :\n",
      "K : 2, \t R : 16 \t Convergiu antes de R :\n",
      "K : 2, \t R : 17 \t Convergiu antes de R :\n",
      "K : 2, \t R : 18 \t Convergiu antes de R :\n",
      "K : 2, \t R : 19 \t Convergiu antes de R :\n",
      "K : 2, \t R : 20 \t Convergiu antes de R :\n",
      "K : 2, \t R : 21 \t Convergiu antes de R :\n",
      "K : 2, \t R : 22 \t Convergiu antes de R :\n",
      "K : 2, \t R : 23 \t Convergiu antes de R :\n",
      "K : 2, \t R : 24 \t Convergiu antes de R :\n",
      "K : 2, \t R : 25 \t Convergiu antes de R :\n",
      "K : 2, \t R : 26 \t Convergiu antes de R :\n",
      "K : 2, \t R : 27 \t Convergiu antes de R :\n",
      "K : 2, \t R : 28 \t Convergiu antes de R :\n",
      "K : 2, \t R : 29 \t Convergiu antes de R :\n",
      "K : 2, \t R : 30 \t Convergiu antes de R :\n",
      "K : 3, \t R : 1 \t Convergiu antes de R :\n",
      "K : 3, \t R : 2 \t Convergiu antes de R :\n",
      "K : 3, \t R : 3 \t Convergiu antes de R :\n",
      "K : 3, \t R : 4 \t Convergiu antes de R :\n",
      "K : 3, \t R : 5 \t Convergiu antes de R :\n",
      "K : 3, \t R : 6 \t Convergiu antes de R :\n",
      "K : 3, \t R : 7 \t Convergiu antes de R :\n",
      "K : 3, \t R : 8 \t Convergiu antes de R :\n",
      "K : 3, \t R : 9 \t Convergiu antes de R :\n",
      "K : 3, \t R : 10 \t Convergiu antes de R :\n",
      "K : 3, \t R : 11 \t Convergiu antes de R :\n",
      "K : 3, \t R : 12 \t Convergiu antes de R :\n",
      "K : 3, \t R : 13 \t Convergiu antes de R :\n",
      "K : 3, \t R : 14 \t Convergiu antes de R :\n",
      "K : 3, \t R : 15 \t Convergiu antes de R :\n",
      "K : 3, \t R : 16 \t Convergiu antes de R :\n",
      "K : 3, \t R : 17 \t Convergiu antes de R :\n",
      "K : 3, \t R : 18 \t Convergiu antes de R :\n",
      "K : 3, \t R : 19 \t Convergiu antes de R :\n",
      "K : 3, \t R : 20 \t Convergiu antes de R :\n",
      "K : 3, \t R : 21 \t Convergiu antes de R :\n",
      "K : 3, \t R : 22 \t Convergiu antes de R :\n",
      "K : 3, \t R : 23 \t Convergiu antes de R :\n",
      "K : 3, \t R : 24 \t Convergiu antes de R :\n",
      "K : 3, \t R : 25 \t Convergiu antes de R :\n",
      "K : 3, \t R : 26 \t Convergiu antes de R :\n",
      "K : 3, \t R : 27 \t Convergiu antes de R :\n",
      "K : 3, \t R : 28 \t Convergiu antes de R :\n",
      "K : 3, \t R : 29 \t Convergiu antes de R :\n",
      "K : 3, \t R : 30 \t Convergiu antes de R :\n",
      "K : 4, \t R : 1 \t Convergiu antes de R :\n",
      "K : 4, \t R : 2 \t Convergiu antes de R :\n",
      "K : 4, \t R : 3 \t Convergiu antes de R :\n",
      "K : 4, \t R : 4 \t Convergiu antes de R :\n",
      "K : 4, \t R : 5 \t Convergiu antes de R :\n",
      "K : 4, \t R : 6 \t Convergiu antes de R :\n",
      "K : 4, \t R : 7 \t Convergiu antes de R :\n",
      "K : 4, \t R : 8 \t Convergiu antes de R :\n",
      "K : 4, \t R : 9 \t Convergiu antes de R :\n",
      "K : 4, \t R : 10 \t Convergiu antes de R :\n",
      "K : 4, \t R : 11 \t Convergiu antes de R :\n",
      "K : 4, \t R : 12 \t Convergiu antes de R :\n",
      "K : 4, \t R : 13 \t Convergiu antes de R :\n",
      "K : 4, \t R : 14 \t Convergiu antes de R :\n"
     ]
    },
    {
     "ename": "KeyboardInterrupt",
     "evalue": "",
     "output_type": "error",
     "traceback": [
      "\u001b[0;31m---------------------------------------------------------------------------\u001b[0m",
      "\u001b[0;31mKeyboardInterrupt\u001b[0m                         Traceback (most recent call last)",
      "\u001b[0;32m<ipython-input-73-df9147997334>\u001b[0m in \u001b[0;36m<module>\u001b[0;34m\u001b[0m\n\u001b[0;32m----> 1\u001b[0;31m \u001b[0mprint\u001b[0m\u001b[0;34m(\u001b[0m\u001b[0mJ\u001b[0m\u001b[0;34m(\u001b[0m\u001b[0matributes\u001b[0m\u001b[0;34m,\u001b[0m\u001b[0;36m30\u001b[0m\u001b[0;34m,\u001b[0m\u001b[0;36m5\u001b[0m\u001b[0;34m)\u001b[0m\u001b[0;34m)\u001b[0m\u001b[0;34m\u001b[0m\u001b[0;34m\u001b[0m\u001b[0m\n\u001b[0m",
      "\u001b[0;32m<ipython-input-49-f770cdaad952>\u001b[0m in \u001b[0;36mJ\u001b[0;34m(data, R, K)\u001b[0m\n\u001b[1;32m      5\u001b[0m         \u001b[0;32mfor\u001b[0m \u001b[0mr\u001b[0m \u001b[0;32min\u001b[0m \u001b[0mrange\u001b[0m\u001b[0;34m(\u001b[0m\u001b[0;36m1\u001b[0m\u001b[0;34m,\u001b[0m\u001b[0mR\u001b[0m\u001b[0;34m+\u001b[0m\u001b[0;36m1\u001b[0m\u001b[0;34m)\u001b[0m\u001b[0;34m:\u001b[0m\u001b[0;34m\u001b[0m\u001b[0;34m\u001b[0m\u001b[0m\n\u001b[1;32m      6\u001b[0m             \u001b[0mkmeans\u001b[0m \u001b[0;34m=\u001b[0m \u001b[0mKMeansClassifier\u001b[0m\u001b[0;34m(\u001b[0m\u001b[0mk\u001b[0m\u001b[0;34m,\u001b[0m\u001b[0mr\u001b[0m\u001b[0;34m)\u001b[0m\u001b[0;34m\u001b[0m\u001b[0;34m\u001b[0m\u001b[0m\n\u001b[0;32m----> 7\u001b[0;31m             \u001b[0mv\u001b[0m \u001b[0;34m=\u001b[0m \u001b[0mkmeans\u001b[0m\u001b[0;34m.\u001b[0m\u001b[0mfit_predict\u001b[0m\u001b[0;34m(\u001b[0m\u001b[0mdata\u001b[0m\u001b[0;34m)\u001b[0m\u001b[0;34m\u001b[0m\u001b[0;34m\u001b[0m\u001b[0m\n\u001b[0m\u001b[1;32m      8\u001b[0m             \u001b[0msw\u001b[0m \u001b[0;34m=\u001b[0m \u001b[0mwithin_cluster\u001b[0m\u001b[0;34m(\u001b[0m\u001b[0mv\u001b[0m\u001b[0;34m,\u001b[0m\u001b[0mdata\u001b[0m\u001b[0;34m,\u001b[0m\u001b[0mkmeans\u001b[0m\u001b[0;34m.\u001b[0m\u001b[0mcentroids\u001b[0m\u001b[0;34m,\u001b[0m\u001b[0mk\u001b[0m\u001b[0;34m)\u001b[0m\u001b[0;34m\u001b[0m\u001b[0;34m\u001b[0m\u001b[0m\n\u001b[1;32m      9\u001b[0m             \u001b[0msb\u001b[0m \u001b[0;34m=\u001b[0m \u001b[0mbetween_cluster\u001b[0m\u001b[0;34m(\u001b[0m\u001b[0mdata\u001b[0m\u001b[0;34m,\u001b[0m\u001b[0mkmeans\u001b[0m\u001b[0;34m.\u001b[0m\u001b[0mcentroids\u001b[0m\u001b[0;34m,\u001b[0m\u001b[0mk\u001b[0m\u001b[0;34m)\u001b[0m\u001b[0;34m\u001b[0m\u001b[0;34m\u001b[0m\u001b[0m\n",
      "\u001b[0;32m<ipython-input-72-cd238aeea790>\u001b[0m in \u001b[0;36mfit_predict\u001b[0;34m(self, x_train)\u001b[0m\n\u001b[1;32m     38\u001b[0m                     \u001b[0;32mif\u001b[0m \u001b[0mr\u001b[0m \u001b[0;34m==\u001b[0m \u001b[0mc_n\u001b[0m\u001b[0;34m:\u001b[0m\u001b[0;34m\u001b[0m\u001b[0;34m\u001b[0m\u001b[0m\n\u001b[1;32m     39\u001b[0m                         \u001b[0mvalues\u001b[0m\u001b[0;34m.\u001b[0m\u001b[0mappend\u001b[0m\u001b[0;34m(\u001b[0m\u001b[0mx_train\u001b[0m\u001b[0;34m.\u001b[0m\u001b[0miloc\u001b[0m\u001b[0;34m[\u001b[0m\u001b[0mindex\u001b[0m\u001b[0;34m,\u001b[0m\u001b[0;34m:\u001b[0m\u001b[0;34m]\u001b[0m\u001b[0;34m.\u001b[0m\u001b[0mto_list\u001b[0m\u001b[0;34m(\u001b[0m\u001b[0;34m)\u001b[0m\u001b[0;34m)\u001b[0m\u001b[0;34m\u001b[0m\u001b[0;34m\u001b[0m\u001b[0m\n\u001b[0;32m---> 40\u001b[0;31m                 \u001b[0mself\u001b[0m\u001b[0;34m.\u001b[0m\u001b[0mcentroids\u001b[0m\u001b[0;34m[\u001b[0m\u001b[0mc_n\u001b[0m\u001b[0;34m]\u001b[0m \u001b[0;34m=\u001b[0m \u001b[0mcalc_mean\u001b[0m\u001b[0;34m(\u001b[0m\u001b[0mvalues\u001b[0m\u001b[0;34m)\u001b[0m\u001b[0;34m\u001b[0m\u001b[0;34m\u001b[0m\u001b[0m\n\u001b[0m\u001b[1;32m     41\u001b[0m             \u001b[0maux\u001b[0m \u001b[0;34m+=\u001b[0m \u001b[0;36m1\u001b[0m\u001b[0;34m\u001b[0m\u001b[0;34m\u001b[0m\u001b[0m\n\u001b[1;32m     42\u001b[0m             \u001b[0;32mfor\u001b[0m \u001b[0mr\u001b[0m \u001b[0;32min\u001b[0m \u001b[0mrange\u001b[0m\u001b[0;34m(\u001b[0m\u001b[0mlen\u001b[0m\u001b[0;34m(\u001b[0m\u001b[0mresult\u001b[0m\u001b[0;34m)\u001b[0m\u001b[0;34m)\u001b[0m\u001b[0;34m:\u001b[0m\u001b[0;34m\u001b[0m\u001b[0;34m\u001b[0m\u001b[0m\n",
      "\u001b[0;32m<ipython-input-31-af59b259e0d2>\u001b[0m in \u001b[0;36mcalc_mean\u001b[0;34m(data)\u001b[0m\n\u001b[1;32m      1\u001b[0m \u001b[0;32mdef\u001b[0m \u001b[0mcalc_mean\u001b[0m\u001b[0;34m(\u001b[0m\u001b[0mdata\u001b[0m\u001b[0;34m)\u001b[0m\u001b[0;34m:\u001b[0m\u001b[0;34m\u001b[0m\u001b[0;34m\u001b[0m\u001b[0m\n\u001b[0;32m----> 2\u001b[0;31m     \u001b[0;32mreturn\u001b[0m \u001b[0mnp\u001b[0m\u001b[0;34m.\u001b[0m\u001b[0mmean\u001b[0m\u001b[0;34m(\u001b[0m\u001b[0mnp\u001b[0m\u001b[0;34m.\u001b[0m\u001b[0marray\u001b[0m\u001b[0;34m(\u001b[0m\u001b[0mdata\u001b[0m\u001b[0;34m)\u001b[0m\u001b[0;34m,\u001b[0m\u001b[0maxis\u001b[0m\u001b[0;34m=\u001b[0m\u001b[0;36m0\u001b[0m\u001b[0;34m)\u001b[0m\u001b[0;34m\u001b[0m\u001b[0;34m\u001b[0m\u001b[0m\n\u001b[0m\u001b[1;32m      3\u001b[0m \u001b[0;34m\u001b[0m\u001b[0m\n\u001b[1;32m      4\u001b[0m \u001b[0;32mdef\u001b[0m \u001b[0mwithin_cluster\u001b[0m\u001b[0;34m(\u001b[0m\u001b[0mresults\u001b[0m\u001b[0;34m,\u001b[0m\u001b[0mdata\u001b[0m\u001b[0;34m,\u001b[0m\u001b[0mcentroids\u001b[0m\u001b[0;34m,\u001b[0m\u001b[0mk\u001b[0m\u001b[0;34m)\u001b[0m\u001b[0;34m:\u001b[0m\u001b[0;34m\u001b[0m\u001b[0;34m\u001b[0m\u001b[0m\n\u001b[1;32m      5\u001b[0m     \u001b[0mdata\u001b[0m \u001b[0;34m=\u001b[0m \u001b[0mdata\u001b[0m\u001b[0;34m.\u001b[0m\u001b[0mvalues\u001b[0m\u001b[0;34m.\u001b[0m\u001b[0mtolist\u001b[0m\u001b[0;34m(\u001b[0m\u001b[0;34m)\u001b[0m\u001b[0;34m\u001b[0m\u001b[0;34m\u001b[0m\u001b[0m\n",
      "\u001b[0;31mKeyboardInterrupt\u001b[0m: "
     ]
    }
   ],
   "source": [
    "print(J(atributes,30,5))"
   ]
  },
  {
   "cell_type": "code",
   "execution_count": 76,
   "id": "promotional-increase",
   "metadata": {
    "scrolled": true
   },
   "outputs": [
    {
     "name": "stdout",
     "output_type": "stream",
     "text": [
      "K : 5, \t R : 30 \t Parou com R igual a : 10\n",
      "[0, 1, 2, 3, 2, 0, 0, 2, 0, 0, 1, 0, 0, 1, 4, 0, 0, 3, 4, 0, 0, 0, 0, 4, 0, 3, 0, 0, 0, 4, 3, 0, 1, 1, 0, 0, 4, 0, 4, 1, 0, 0, 1, 0, 0, 4, 0, 0, 0, 4, 4, 0, 1, 1, 0, 1, 0, 4, 0, 0, 0, 1, 0, 1, 0, 4, 3, 0, 0, 1, 0, 0, 4, 0, 0, 0, 0, 1, 2, 0, 1, 0, 0, 0, 0, 1, 1, 4, 3, 0, 0, 0, 0, 1, 4, 0, 0, 0, 1, 0, 0, 0, 1, 0, 0, 1, 0, 1, 4, 1, 1, 2, 0, 2, 4, 0, 0, 2, 0, 1, 0, 0, 0, 1, 1, 0, 0, 4, 0, 0, 1, 1, 2, 0, 0, 1, 0, 0, 2, 1, 0, 1, 1, 4, 2, 2, 0, 0, 0, 0, 0, 1, 1, 1, 0, 2, 0, 2, 0, 0, 0, 0, 2, 0, 0, 1, 3, 4, 0, 2, 2, 3, 3, 3, 2, 3, 3, 0, 2, 2, 3, 1, 3, 3, 0, 0, 0, 0, 0, 3, 4, 4, 4, 3, 3, 0, 4, 0, 0, 0, 0, 0, 0, 0, 0, 1, 1, 3, 3, 3, 3, 3, 4, 2, 2, 4, 2, 2, 0, 0, 0, 0, 0, 0, 0, 0, 0, 0, 0, 0, 0, 0, 0, 1, 1, 1, 1, 1, 1, 0, 0, 1, 1, 1, 3, 3, 3, 3, 1, 2, 2, 2, 2, 2, 2, 2, 0, 0, 0, 0, 0, 0, 0, 0, 0, 0, 0, 0, 0, 0, 0, 0, 3, 3, 3, 3, 3, 0, 0, 0, 0, 0, 3, 3, 0, 0, 0, 4, 2, 2, 2, 3, 3, 3, 3, 0, 0, 0, 0, 0, 4, 4, 4, 0, 3, 1, 0, 0, 0, 3, 3, 3, 4, 4, 4, 4, 4, 3, 3, 3, 3, 0, 0, 1, 3, 0, 4, 4, 0, 1, 3, 0, 0, 0, 0, 3, 3, 0, 0, 4, 3, 0, 0, 0, 0, 0, 0, 0, 0, 0, 3, 1, 1, 0, 0, 1, 1, 3, 3, 0, 0, 0, 0, 4, 4, 3]\n"
     ]
    }
   ],
   "source": [
    "kmeans = KMeansClassifier(5,30)\n",
    "v = kmeans.fit_predict(atributes)\n",
    "print(v)"
   ]
  },
  {
   "cell_type": "code",
   "execution_count": 78,
   "id": "immune-connection",
   "metadata": {},
   "outputs": [
    {
     "name": "stdout",
     "output_type": "stream",
     "text": [
      "5\n"
     ]
    }
   ],
   "source": [
    "print(len(kmeans.centroids))"
   ]
  }
 ],
 "metadata": {
  "kernelspec": {
   "display_name": "Python 3",
   "language": "python",
   "name": "python3"
  },
  "language_info": {
   "codemirror_mode": {
    "name": "ipython",
    "version": 3
   },
   "file_extension": ".py",
   "mimetype": "text/x-python",
   "name": "python",
   "nbconvert_exporter": "python",
   "pygments_lexer": "ipython3",
   "version": "3.8.5"
  }
 },
 "nbformat": 4,
 "nbformat_minor": 5
}
