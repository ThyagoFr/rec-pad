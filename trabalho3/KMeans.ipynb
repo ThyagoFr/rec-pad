{
 "cells": [
  {
   "cell_type": "markdown",
   "id": "virgin-slovakia",
   "metadata": {},
   "source": [
    "# Introdução ao Reconhecimento de Padrões, 2020.2, UFC/DETI\n",
    "## Trabalho 3\n",
    "\n",
    "Aluno : Thyago Freitas da Silva <br>\n",
    "Matrícula : 392035"
   ]
  },
  {
   "cell_type": "code",
   "execution_count": 267,
   "id": "knowing-emergency",
   "metadata": {},
   "outputs": [],
   "source": [
    "import numpy as np\n",
    "import operator\n",
    "import collections\n",
    "import pandas as pd\n",
    "from random import randrange\n",
    "import matplotlib.pyplot as plt"
   ]
  },
  {
   "cell_type": "markdown",
   "id": "constitutional-theology",
   "metadata": {},
   "source": [
    "### Funções úteis durante o decorrer do relatório"
   ]
  },
  {
   "cell_type": "markdown",
   "id": "hindu-neutral",
   "metadata": {},
   "source": [
    "#### Calcular média de todas as colunas de uma matriz"
   ]
  },
  {
   "cell_type": "code",
   "execution_count": 96,
   "id": "residential-abortion",
   "metadata": {},
   "outputs": [],
   "source": [
    "def calc_mean(features):\n",
    "    return np.mean(np.array(features),axis=0)"
   ]
  },
  {
   "cell_type": "markdown",
   "id": "special-timing",
   "metadata": {},
   "source": [
    "#### Transformar coluna com valores inválidos substituindo-os pela mediana da coluna"
   ]
  },
  {
   "cell_type": "code",
   "execution_count": null,
   "id": "expanded-berkeley",
   "metadata": {},
   "outputs": [],
   "source": [
    "def transform_column(column):\n",
    "    transformed_column = np.array([0]*len(column))\n",
    "    values = []\n",
    "    for v in column:\n",
    "        if v != '?':\n",
    "            v = float(v)\n",
    "            values.append(v)\n",
    "    median = np.median(values)\n",
    "    for index in range(len(column)):\n",
    "        if column[index] == '?':\n",
    "            transformed_column[index] = median\n",
    "        else:\n",
    "            transformed_column[index] = float(column[index])\n",
    "    return transformed_column"
   ]
  },
  {
   "cell_type": "markdown",
   "id": "specialized-adjustment",
   "metadata": {},
   "source": [
    "#### Calcular matriz de espalhamento intra-clusters"
   ]
  },
  {
   "cell_type": "code",
   "execution_count": 224,
   "id": "optimum-chuck",
   "metadata": {},
   "outputs": [],
   "source": [
    "def within_cluster(features,predicts,centroids):\n",
    "    k = len(centroids)\n",
    "    dimensions = features.shape[1]\n",
    "    s_w = np.zeros((dimensions,dimensions))\n",
    "    values = []\n",
    "    for cent_idx, cent in enumerate(centroids):\n",
    "        s_k = np.zeros((dimensions,dimensions))\n",
    "        for pred in predicts:\n",
    "            if pred == cent_idx:\n",
    "                first_term = cent - pred\n",
    "                values.append(np.outer(first_term,first_term))\n",
    "    for v in values:\n",
    "        s_w = np.add(s_w,v)\n",
    "    return s_w"
   ]
  },
  {
   "cell_type": "markdown",
   "id": "sustained-words",
   "metadata": {},
   "source": [
    "#### Calcular matriz de espalhamento entre clusters"
   ]
  },
  {
   "cell_type": "code",
   "execution_count": 225,
   "id": "regular-windows",
   "metadata": {},
   "outputs": [],
   "source": [
    "def between_cluster(features,predicts,centroids):\n",
    "    k = len(centroids)\n",
    "    dimensions = features.shape[1]\n",
    "    u = calc_mean(features)\n",
    "    s_b = np.zeros((dimensions,dimensions))\n",
    "    values = []\n",
    "    for cent_idx, cent in enumerate(centroids):\n",
    "        n_k = np.count_nonzero(predicts == cent_idx)\n",
    "        first_term = cent - u\n",
    "        sb_k = n_k*np.outer(first_term,first_term)\n",
    "        values.append(sb_k)\n",
    "    for v in values:\n",
    "        s_b = np.add(s_b,v)\n",
    "    return s_b"
   ]
  },
  {
   "cell_type": "markdown",
   "id": "unusual-california",
   "metadata": {},
   "source": [
    "## Parte 0 : Banco de dados - Demartology"
   ]
  },
  {
   "cell_type": "markdown",
   "id": "marked-ticket",
   "metadata": {},
   "source": [
    "O banco de dados utilizado foi o \"Demartology\" que possui as seguintes características:\n",
    "\n",
    "<ul>\n",
    "<li>O arquivo CSV com os dados possui 35 colunas, sendo que a última coluna representa de forma numérica uma doenção demartológica.</li>\n",
    "<li>A coluna 33 (band-like infiltrate) apresenta valores inválidos e que precisam ser removidos ou processados.</li>\n",
    "<li>Temos 366 amostras no banco de dados.</li>\n",
    "<li>A coluna 35 representa uma doença demartológica de forma numérica(1 à 6), sendo elas :</li>\n",
    "    <ol>\n",
    "        <li>psoriasis</li>\n",
    "        <li>seboreic dermatitis</li>\n",
    "        <li>lichen planus</li>\n",
    "        <li>pityriasis rosea</li>\n",
    "        <li>cronic dermatitis</li>\n",
    "        <li>pityriasis rubra pilaris</li>\n",
    "    </ol>\n",
    "</ul>\n"
   ]
  },
  {
   "cell_type": "code",
   "execution_count": 12,
   "id": "urban-remedy",
   "metadata": {},
   "outputs": [
    {
     "data": {
      "text/html": [
       "<div>\n",
       "<style scoped>\n",
       "    .dataframe tbody tr th:only-of-type {\n",
       "        vertical-align: middle;\n",
       "    }\n",
       "\n",
       "    .dataframe tbody tr th {\n",
       "        vertical-align: top;\n",
       "    }\n",
       "\n",
       "    .dataframe thead th {\n",
       "        text-align: right;\n",
       "    }\n",
       "</style>\n",
       "<table border=\"1\" class=\"dataframe\">\n",
       "  <thead>\n",
       "    <tr style=\"text-align: right;\">\n",
       "      <th></th>\n",
       "      <th>0</th>\n",
       "      <th>1</th>\n",
       "      <th>2</th>\n",
       "      <th>3</th>\n",
       "      <th>4</th>\n",
       "      <th>5</th>\n",
       "      <th>6</th>\n",
       "      <th>7</th>\n",
       "      <th>8</th>\n",
       "      <th>9</th>\n",
       "      <th>...</th>\n",
       "      <th>25</th>\n",
       "      <th>26</th>\n",
       "      <th>27</th>\n",
       "      <th>28</th>\n",
       "      <th>29</th>\n",
       "      <th>30</th>\n",
       "      <th>31</th>\n",
       "      <th>32</th>\n",
       "      <th>33</th>\n",
       "      <th>34</th>\n",
       "    </tr>\n",
       "  </thead>\n",
       "  <tbody>\n",
       "    <tr>\n",
       "      <th>0</th>\n",
       "      <td>2</td>\n",
       "      <td>2</td>\n",
       "      <td>0</td>\n",
       "      <td>3</td>\n",
       "      <td>0</td>\n",
       "      <td>0</td>\n",
       "      <td>0</td>\n",
       "      <td>0</td>\n",
       "      <td>1</td>\n",
       "      <td>0</td>\n",
       "      <td>...</td>\n",
       "      <td>0</td>\n",
       "      <td>0</td>\n",
       "      <td>3</td>\n",
       "      <td>0</td>\n",
       "      <td>0</td>\n",
       "      <td>0</td>\n",
       "      <td>1</td>\n",
       "      <td>0</td>\n",
       "      <td>55</td>\n",
       "      <td>2</td>\n",
       "    </tr>\n",
       "    <tr>\n",
       "      <th>1</th>\n",
       "      <td>3</td>\n",
       "      <td>3</td>\n",
       "      <td>3</td>\n",
       "      <td>2</td>\n",
       "      <td>1</td>\n",
       "      <td>0</td>\n",
       "      <td>0</td>\n",
       "      <td>0</td>\n",
       "      <td>1</td>\n",
       "      <td>1</td>\n",
       "      <td>...</td>\n",
       "      <td>0</td>\n",
       "      <td>0</td>\n",
       "      <td>0</td>\n",
       "      <td>0</td>\n",
       "      <td>0</td>\n",
       "      <td>0</td>\n",
       "      <td>1</td>\n",
       "      <td>0</td>\n",
       "      <td>8</td>\n",
       "      <td>1</td>\n",
       "    </tr>\n",
       "    <tr>\n",
       "      <th>2</th>\n",
       "      <td>2</td>\n",
       "      <td>1</td>\n",
       "      <td>2</td>\n",
       "      <td>3</td>\n",
       "      <td>1</td>\n",
       "      <td>3</td>\n",
       "      <td>0</td>\n",
       "      <td>3</td>\n",
       "      <td>0</td>\n",
       "      <td>0</td>\n",
       "      <td>...</td>\n",
       "      <td>0</td>\n",
       "      <td>2</td>\n",
       "      <td>3</td>\n",
       "      <td>2</td>\n",
       "      <td>0</td>\n",
       "      <td>0</td>\n",
       "      <td>2</td>\n",
       "      <td>3</td>\n",
       "      <td>26</td>\n",
       "      <td>3</td>\n",
       "    </tr>\n",
       "    <tr>\n",
       "      <th>3</th>\n",
       "      <td>2</td>\n",
       "      <td>2</td>\n",
       "      <td>2</td>\n",
       "      <td>0</td>\n",
       "      <td>0</td>\n",
       "      <td>0</td>\n",
       "      <td>0</td>\n",
       "      <td>0</td>\n",
       "      <td>3</td>\n",
       "      <td>2</td>\n",
       "      <td>...</td>\n",
       "      <td>3</td>\n",
       "      <td>0</td>\n",
       "      <td>0</td>\n",
       "      <td>0</td>\n",
       "      <td>0</td>\n",
       "      <td>0</td>\n",
       "      <td>3</td>\n",
       "      <td>0</td>\n",
       "      <td>40</td>\n",
       "      <td>1</td>\n",
       "    </tr>\n",
       "    <tr>\n",
       "      <th>4</th>\n",
       "      <td>2</td>\n",
       "      <td>3</td>\n",
       "      <td>2</td>\n",
       "      <td>2</td>\n",
       "      <td>2</td>\n",
       "      <td>2</td>\n",
       "      <td>0</td>\n",
       "      <td>2</td>\n",
       "      <td>0</td>\n",
       "      <td>0</td>\n",
       "      <td>...</td>\n",
       "      <td>2</td>\n",
       "      <td>3</td>\n",
       "      <td>2</td>\n",
       "      <td>3</td>\n",
       "      <td>0</td>\n",
       "      <td>0</td>\n",
       "      <td>2</td>\n",
       "      <td>3</td>\n",
       "      <td>45</td>\n",
       "      <td>3</td>\n",
       "    </tr>\n",
       "  </tbody>\n",
       "</table>\n",
       "<p>5 rows × 35 columns</p>\n",
       "</div>"
      ],
      "text/plain": [
       "   0   1   2   3   4   5   6   7   8   9   ...  25  26  27  28  29  30  31  \\\n",
       "0   2   2   0   3   0   0   0   0   1   0  ...   0   0   3   0   0   0   1   \n",
       "1   3   3   3   2   1   0   0   0   1   1  ...   0   0   0   0   0   0   1   \n",
       "2   2   1   2   3   1   3   0   3   0   0  ...   0   2   3   2   0   0   2   \n",
       "3   2   2   2   0   0   0   0   0   3   2  ...   3   0   0   0   0   0   3   \n",
       "4   2   3   2   2   2   2   0   2   0   0  ...   2   3   2   3   0   0   2   \n",
       "\n",
       "   32  33  34  \n",
       "0   0  55   2  \n",
       "1   0   8   1  \n",
       "2   3  26   3  \n",
       "3   0  40   1  \n",
       "4   3  45   3  \n",
       "\n",
       "[5 rows x 35 columns]"
      ]
     },
     "execution_count": 12,
     "metadata": {},
     "output_type": "execute_result"
    }
   ],
   "source": [
    "data = pd.read_csv(\"./data/dermatology.csv\", header=None)\n",
    "data.head()"
   ]
  },
  {
   "cell_type": "markdown",
   "id": "fresh-special",
   "metadata": {},
   "source": [
    "## Parte 1 : K-Means\n",
    "### Funcionamento do algoritmo\n",
    "\n",
    "O algoritmo KMeans é um dos algoritmos mais famosos na classe de algoritmos de aprendizado de máquina não-supervisionado, onde ,diferente de algoritmos supervisionados onde o modelo aprende com exemplos previamente rotulados , nós não temos os resultados previamente estabelecidos durante a fase de treinamento e teste. O mesmo se enquadra na categoria de modelos de clusterização, ou agrupamento, onde o modelo irá caracterizar e agrupar dados com base em características que ele identifica como comum aos membros do cluster/grupo. Abaixo temos o passo a passo de como o algoritmo kmeans funciona em sua versão mais simples."
   ]
  },
  {
   "cell_type": "markdown",
   "id": "indoor-involvement",
   "metadata": {},
   "source": [
    "\n",
    "<ol>\n",
    "<li>Escolher um número K que representa o numero de clusters e R como o número de interações do algoritmo.</li>\n",
    "<li>Escolher aleatóriamente K amostras do banco de dados e tratá-las como os centróides.</li>\n",
    "<li>Calcular a distância eculidiana de cada amostra para cada centróide escolhido.</li>\n",
    "<li>Associar cada amostra ao centróide mais pŕoximo, formando grupos.</li>\n",
    "<li>Após terminar o agrupamento, recalcular os centróides usando a média dos valores das amostras de cada grupo.\n",
    "</li>\n",
    "<li>Refazer a sequência de passos 3,4 e 5 R vezes ou até verificar que as amostras não mais mudam de centróides.</li>\n",
    "</ol>"
   ]
  },
  {
   "cell_type": "markdown",
   "id": "expanded-municipality",
   "metadata": {},
   "source": [
    "### Validação do número de clusters usando o índice de validação"
   ]
  },
  {
   "cell_type": "markdown",
   "id": "convenient-aviation",
   "metadata": {},
   "source": [
    "Podemos validar se escolhemos um bom valor para K com base no índice de validação que pode ser calculado utilizando a seguinte equação :"
   ]
  },
  {
   "cell_type": "markdown",
   "id": "foreign-hebrew",
   "metadata": {},
   "source": [
    "$$ J_{a}(K) = traço(S^{-1}_{w}S_{b}) $$\n",
    "$$ S_{w} = \\sum_{k=1}^{K}\\sum_{x\\in C_{k}}^{K}(x - \\mu_{k})(x - \\mu_{k})^T $$\n",
    "$$ S_{b} = \\sum_{k=1}^{K}N_{k}(x - \\mu_{k})(x - \\mu_{k})^T $$"
   ]
  },
  {
   "cell_type": "markdown",
   "id": "typical-steps",
   "metadata": {},
   "source": [
    "Onde :\n",
    "    \n",
    "<ul>\n",
    "    <li> $ S_{w} $ é a matriz de espalhamento intra-clusters</li>\n",
    "    <li> $ S_{b} $ é a matriz de espalhamento entre-clusters</li>\n",
    "    <li> $ K $ é o número de clusters</li>\n",
    "    <li> $ x $ é um membro do cluster $ C_{k} $</li>\n",
    "    <li> $ \\mu_{k} $ é o centróide do cluster $ C_{k} $</li>\n",
    "    <li> $ \\mu $ é a média de todo o banco de dados</li>\n",
    "    <li> $ N_{k} $ é o número de membros no cluster $ C_{k} $</li>\n",
    "</ul>"
   ]
  },
  {
   "cell_type": "markdown",
   "id": "asian-scholar",
   "metadata": {},
   "source": [
    "Quanto maior o número J, melhor é o valor de K."
   ]
  },
  {
   "cell_type": "markdown",
   "id": "described-proof",
   "metadata": {},
   "source": [
    "### Implementacão do algoritmo \"K-Means\""
   ]
  },
  {
   "cell_type": "code",
   "execution_count": 283,
   "id": "failing-period",
   "metadata": {},
   "outputs": [],
   "source": [
    "class KMeansClustering:\n",
    "    def __init__(self, X, K, R, heuristic_for_initial_centroids='random'):\n",
    "        self.K = K\n",
    "        self.R = R\n",
    "        self.n_examples = X.shape[0]\n",
    "        self.n_features = X.shape[1]\n",
    "        self.heuristic = heuristic_for_initial_centroids\n",
    "        \n",
    "    def initialize_centroids(self, X):\n",
    "        centroids = np.zeros((self.K, self.n_features))\n",
    "        for k in range(self.K):\n",
    "            value = 0\n",
    "            if self.heuristic == 'random':\n",
    "                value = np.random.randint(self.n_examples)\n",
    "            if self.heuristic == 'first':\n",
    "                value = k\n",
    "            centroids[k] = X[value]\n",
    "        return centroids\n",
    "\n",
    "    def calculate_clusters(self, X, centroids):\n",
    "        clusters = [[] for _ in range(self.K)]\n",
    "        for index_point, point in enumerate(X):\n",
    "            distances_from_centroids = []\n",
    "            for cent in centroids:\n",
    "                dist = self.calc_distance_between_two_points(point,cent)\n",
    "                distances_from_centroids.append(dist)\n",
    "            closest_centroid = distances_from_centroids.index(min(distances_from_centroids))\n",
    "            clusters[closest_centroid].append(index_point)\n",
    "        return clusters\n",
    "\n",
    "    def calculate_new_centroids(self, clusters, X):\n",
    "        centroids = np.zeros((self.K, self.n_features))\n",
    "        for idx, cluster in enumerate(clusters):\n",
    "            if len(cluster) == 0:\n",
    "                new_centroid = X[np.random.randint(self.n_examples)]\n",
    "            else:\n",
    "                new_centroid = np.mean(X[cluster], axis=0)\n",
    "            centroids[idx] = new_centroid\n",
    "        return centroids\n",
    "\n",
    "    def calc_distance_between_two_points(self,point1,point2):\n",
    "        return np.linalg.norm(point1 - point2)\n",
    "\n",
    "    def predict(self, clusters, X):\n",
    "        predicts = np.zeros(self.n_examples)\n",
    "        for cluster_idx, cluster in enumerate(clusters):\n",
    "            for sample_idx in cluster:\n",
    "                predicts[sample_idx] = cluster_idx\n",
    "        return predicts\n",
    "\n",
    "    def fit(self, X):\n",
    "        centroids = self.initialize_centroids(X)\n",
    "        clusters = [[] for _ in range(self.K)]\n",
    "        for it in range(self.R):\n",
    "            clusters = self.calculate_clusters(X, centroids)\n",
    "            old_centroids = centroids\n",
    "            centroids = self.calculate_new_centroids(clusters, X)\n",
    "            diff = centroids - old_centroids\n",
    "            if not diff.any():\n",
    "                break\n",
    "        self.centroids = centroids\n",
    "        return self.predict(clusters, X)"
   ]
  },
  {
   "cell_type": "markdown",
   "id": "defensive-degree",
   "metadata": {},
   "source": [
    "### Implementacão do algoritmo de índice de validação."
   ]
  },
  {
   "cell_type": "code",
   "execution_count": 293,
   "id": "stock-appraisal",
   "metadata": {},
   "outputs": [],
   "source": [
    "def J(features,R,K):\n",
    "    result = []\n",
    "    for k in range(2,K+1):\n",
    "        values = 0\n",
    "        for r in range(1,R+1):\n",
    "            kmeans = KMeansClustering(features,k,r,'random')\n",
    "            predicts = kmeans.fit(features)\n",
    "            sw = within_cluster(features,predicts,kmeans.centroids)\n",
    "            sb = between_cluster(features,predicts,kmeans.centroids)\n",
    "            s = np.dot(np.linalg.inv(sw),np.transpose(sb))\n",
    "            values += s.trace()\n",
    "        print(\"Fim K {0}\".format(k))\n",
    "        result.append(values/R)\n",
    "    return result"
   ]
  },
  {
   "cell_type": "markdown",
   "id": "aboriginal-ambassador",
   "metadata": {},
   "source": [
    "## Parte 1.1 : K-Means\n",
    "### Avaliação usando o índice de validação de clusters"
   ]
  },
  {
   "cell_type": "markdown",
   "id": "supreme-broadcast",
   "metadata": {},
   "source": [
    "#### Leitura da base \"demartology\""
   ]
  },
  {
   "cell_type": "code",
   "execution_count": 295,
   "id": "fixed-lithuania",
   "metadata": {
    "scrolled": true
   },
   "outputs": [
    {
     "data": {
      "text/plain": [
       "(366, 35)"
      ]
     },
     "execution_count": 295,
     "metadata": {},
     "output_type": "execute_result"
    }
   ],
   "source": [
    "data = pd.read_csv(\"./data/dermatology.csv\", header=None)\n",
    "data = data.to_numpy()\n",
    "data.shape"
   ]
  },
  {
   "cell_type": "markdown",
   "id": "activated-wonder",
   "metadata": {},
   "source": [
    "#### Pré-processamento"
   ]
  },
  {
   "cell_type": "markdown",
   "id": "changing-danish",
   "metadata": {
    "scrolled": true
   },
   "source": [
    "Como informado anteriormente, a coluna 33 do banco de dados possui valores inválidos que atrapalham a execução do algoritmo, logo, afim de evitar a remoção da amostras que possuem esse problema, foi adotado a heurística de substituir os valores inválidos,pontos de interrogação,pela mediana da coluna. A mediana foi escolhida por ser menos sensível a outliers se comparada com a média, por exemplo."
   ]
  },
  {
   "cell_type": "code",
   "execution_count": 296,
   "id": "individual-invasion",
   "metadata": {},
   "outputs": [],
   "source": [
    "data[:,33] = transform_column(data[:,33])"
   ]
  },
  {
   "cell_type": "markdown",
   "id": "fundamental-logistics",
   "metadata": {},
   "source": [
    "Agora precisamos isolar do conjunto de dados as features e a coluna que contém as classes."
   ]
  },
  {
   "cell_type": "code",
   "execution_count": 297,
   "id": "necessary-chambers",
   "metadata": {},
   "outputs": [],
   "source": [
    "features = data[:,:34]\n",
    "classes = data[:,34]"
   ]
  },
  {
   "cell_type": "markdown",
   "id": "atomic-columbia",
   "metadata": {},
   "source": [
    "#### Obtendo os valores de J para K indo de 2 até 15, e R igual a 30."
   ]
  },
  {
   "cell_type": "code",
   "execution_count": 301,
   "id": "announced-laundry",
   "metadata": {},
   "outputs": [
    {
     "name": "stdout",
     "output_type": "stream",
     "text": [
      "Fim K 2\n",
      "Fim K 3\n",
      "Fim K 4\n",
      "Fim K 5\n",
      "Fim K 6\n",
      "Fim K 7\n",
      "Fim K 8\n",
      "Fim K 9\n",
      "Fim K 10\n",
      "Fim K 11\n",
      "Fim K 12\n",
      "Fim K 13\n",
      "Fim K 14\n",
      "Fim K 15\n"
     ]
    }
   ],
   "source": [
    "K = 15\n",
    "R = 30\n",
    "j_values = J(features,R,K)"
   ]
  },
  {
   "cell_type": "markdown",
   "id": "communist-cathedral",
   "metadata": {},
   "source": [
    "#### Visualizando a variação de J com base no valor de K"
   ]
  },
  {
   "cell_type": "code",
   "execution_count": 302,
   "id": "connected-bible",
   "metadata": {
    "scrolled": false
   },
   "outputs": [
    {
     "data": {
      "image/png": "[encoded data removed]",
      "text/plain": [
       "<Figure size 432x288 with 1 Axes>"
      ]
     },
     "metadata": {
      "needs_background": "light"
     },
     "output_type": "display_data"
    }
   ],
   "source": [
    "plt.plot(list(range(2,K+1)),j_values)\n",
    "plt.ylabel(\"Valor de J\")\n",
    "plt.xlabel(\"Valor de K\")\n",
    "plt.show()"
   ]
  },
  {
   "cell_type": "markdown",
   "id": "positive-excess",
   "metadata": {},
   "source": [
    "Sabemos que o conjunto de dados possui 6 classes, logo, teoricamente o maior valor de J deve estar associado a valores de K próximos de 6. Para obter o K associado ao maior J , basta encontrar o maior J na lista de valores retornados pelo algoritmo ,obter o índice desse elementro dentro da lista e somar 2, pois os indices na lista começam de 0 e nós utilizamos K igual a 2 como o primeiro valor para K."
   ]
  },
  {
   "cell_type": "code",
   "execution_count": 303,
   "id": "heated-mineral",
   "metadata": {},
   "outputs": [
    {
     "name": "stdout",
     "output_type": "stream",
     "text": [
      "6\n"
     ]
    }
   ],
   "source": [
    "print(j_values.index(max(j_values)) + 2)"
   ]
  }
 ],
 "metadata": {
  "kernelspec": {
   "display_name": "Python 3",
   "language": "python",
   "name": "python3"
  },
  "language_info": {
   "codemirror_mode": {
    "name": "ipython",
    "version": 3
   },
   "file_extension": ".py",
   "mimetype": "text/x-python",
   "name": "python",
   "nbconvert_exporter": "python",
   "pygments_lexer": "ipython3",
   "version": "3.8.5"
  }
 },
 "nbformat": 4,
 "nbformat_minor": 5
}
