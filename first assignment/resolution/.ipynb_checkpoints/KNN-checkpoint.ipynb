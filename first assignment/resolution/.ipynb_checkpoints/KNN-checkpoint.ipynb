{
 "cells": [
  {
   "cell_type": "markdown",
   "id": "deluxe-pakistan",
   "metadata": {},
   "source": [
    "# Introdução ao Reconhecimento de Padrões, 2020.2, UFC/DETI\n",
    "## Trabalho 1\n",
    "\n",
    "Aluno : Thyago Freitas da Silva <br>\n",
    "Matrícula : 392035"
   ]
  },
  {
   "cell_type": "code",
   "execution_count": 4,
   "id": "after-domain",
   "metadata": {},
   "outputs": [],
   "source": [
    "import numpy as np\n",
    "import operator\n",
    "import collections\n",
    "import pandas\n",
    "#from sklearn.datasets import load_iris\n",
    "#from sklearn.model_selection import train_test_split\n",
    "#from sklearn.metrics import accuracy_score"
   ]
  },
  {
   "cell_type": "markdown",
   "id": "built-alarm",
   "metadata": {},
   "source": [
    "### Implementacão do classificador \"K Vizinhos mais Proximos (KNN)\""
   ]
  },
  {
   "cell_type": "code",
   "execution_count": 5,
   "id": "italian-ballot",
   "metadata": {},
   "outputs": [],
   "source": [
    "norm_p = lambda x,y,p : abs((x-y))**p\n",
    "euclidian = lambda list1,list2: np.sqrt(sum(map(norm_p,list1,list2,[2]*len(list1))))\n",
    "manhatan = lambda list1,list2: sum(map(norm_p,list1,list2,[1]*len(list1)))\n",
    "\n",
    "metrics = {\n",
    "    \"euclidian\" : euclidian,\n",
    "    \"manhatan\" : manhatan\n",
    "}\n",
    "\n",
    "class KNNClassifier:\n",
    "    def __init__(self, metric=\"euclidian\", n_neighbors=3):\n",
    "        if metric not in metrics:\n",
    "            message = \"invalid metric. the acceptable values are :\"\n",
    "            for k in metrics.keys():\n",
    "                message += \" \" + k\n",
    "            raise Exception(message)\n",
    "        self.n_neighbors = n_neighbors\n",
    "        self.metric_name = metric\n",
    "        self.metric_func = metrics[metric]\n",
    "    def fit(self, x_train,y_train):\n",
    "        if len(x_train) != len(y_train):\n",
    "            raise Exception(\"the size of inputs must be equals\")\n",
    "        self.x_train = x_train\n",
    "        self.y_train = y_train\n",
    "    def predict(self,x_test):\n",
    "        distances = []\n",
    "        result = []\n",
    "        for test in x_test:\n",
    "            for index in range(len(self.x_train)):\n",
    "                distance = self.metric_func(self.x_train[index],test)\n",
    "                distances.append((self.y_train[index], distance))\n",
    "            distances = sorted(distances, key = lambda tup : tup[1])\n",
    "            classes = collections.Counter(map(lambda x : x[0], distances[:self.n_neighbors]))\n",
    "            clas = classes.most_common(1)\n",
    "            result.append(clas[0][0])\n",
    "            distances.clear()\n",
    "        return result"
   ]
  },
  {
   "cell_type": "code",
   "execution_count": 46,
   "id": "announced-bunny",
   "metadata": {},
   "outputs": [
    {
     "name": "stdout",
     "output_type": "stream",
     "text": [
      "Accuracy: 1.0\n"
     ]
    }
   ],
   "source": [
    "iris = load_iris()\n",
    "target = iris[\"target\"]\n",
    "data = iris[\"data\"]\n",
    "X_train, X_test, y_train, y_test = train_test_split(data, target, test_size=0.2)\n",
    "\n",
    "\n",
    "knn_cl = KNNClassifier(\"euclidian\", 7)\n",
    "knn_cl.fit(X_train,y_train)\n",
    "predictions = knn_cl.predict(X_test)\n",
    "print('Accuracy:', accuracy_score(y_test, predictions))"
   ]
  },
  {
   "cell_type": "markdown",
   "id": "hawaiian-utility",
   "metadata": {},
   "source": [
    "### Leitura da base \"demartology\""
   ]
  },
  {
   "cell_type": "code",
   "execution_count": 33,
   "id": "auburn-harmony",
   "metadata": {
    "scrolled": true
   },
   "outputs": [
    {
     "name": "stdout",
     "output_type": "stream",
     "text": [
      "<class 'pandas.core.frame.DataFrame'>\n",
      "RangeIndex: 366 entries, 0 to 365\n",
      "Data columns (total 35 columns):\n",
      " #   Column  Non-Null Count  Dtype \n",
      "---  ------  --------------  ----- \n",
      " 0   0       366 non-null    int64 \n",
      " 1   1       366 non-null    int64 \n",
      " 2   2       366 non-null    int64 \n",
      " 3   3       366 non-null    int64 \n",
      " 4   4       366 non-null    int64 \n",
      " 5   5       366 non-null    int64 \n",
      " 6   6       366 non-null    int64 \n",
      " 7   7       366 non-null    int64 \n",
      " 8   8       366 non-null    int64 \n",
      " 9   9       366 non-null    int64 \n",
      " 10  10      366 non-null    int64 \n",
      " 11  11      366 non-null    int64 \n",
      " 12  12      366 non-null    int64 \n",
      " 13  13      366 non-null    int64 \n",
      " 14  14      366 non-null    int64 \n",
      " 15  15      366 non-null    int64 \n",
      " 16  16      366 non-null    int64 \n",
      " 17  17      366 non-null    int64 \n",
      " 18  18      366 non-null    int64 \n",
      " 19  19      366 non-null    int64 \n",
      " 20  20      366 non-null    int64 \n",
      " 21  21      366 non-null    int64 \n",
      " 22  22      366 non-null    int64 \n",
      " 23  23      366 non-null    int64 \n",
      " 24  24      366 non-null    int64 \n",
      " 25  25      366 non-null    int64 \n",
      " 26  26      366 non-null    int64 \n",
      " 27  27      366 non-null    int64 \n",
      " 28  28      366 non-null    int64 \n",
      " 29  29      366 non-null    int64 \n",
      " 30  30      366 non-null    int64 \n",
      " 31  31      366 non-null    int64 \n",
      " 32  32      366 non-null    int64 \n",
      " 33  33      366 non-null    object\n",
      " 34  34      366 non-null    int64 \n",
      "dtypes: int64(34), object(1)\n",
      "memory usage: 100.2+ KB\n"
     ]
    }
   ],
   "source": [
    "data = pandas.read_csv(\"./data/dermatology.csv\", header=None)\n",
    "data.info()"
   ]
  },
  {
   "cell_type": "markdown",
   "id": "expensive-giant",
   "metadata": {},
   "source": [
    "#### Pre-processamento\n",
    "\n",
    "Olhando o conteúdo do arquivo, foi notado que algumas linhas da coluna 33 (band-like infiltrate) apresentam valores marcados com \"?\" que atrapalham o resultado do algoritmo. Para remediar esse problema , decidi trocar os valores faltantes demarcados por \"?\" pela mediana da coluna 33, pois tal medida é menos sensível a outliers se comparado com a média, por exemplo."
   ]
  },
  {
   "cell_type": "code",
   "execution_count": 38,
   "id": "cosmetic-bandwidth",
   "metadata": {},
   "outputs": [],
   "source": [
    "def calc_median(array):\n",
    "    values = []\n",
    "    for v in array:\n",
    "        if v != '?':\n",
    "            v = int(v)\n",
    "            values.append(v)\n",
    "    return np.median(values)\n",
    "\n",
    "median = calc_median(data.iloc[:,33])\n",
    "data.iloc[:,33] = list(map(lambda value: median if value == '?' else value, data.iloc[:,33]))\n",
    "data.iloc[:,33] = data.iloc[:,33].astype(np.int64)"
   ]
  },
  {
   "cell_type": "markdown",
   "id": "continued-hungarian",
   "metadata": {},
   "source": [
    "#### Separar dados em atributos e classes de saída"
   ]
  },
  {
   "cell_type": "code",
   "execution_count": 43,
   "id": "satisfied-intensity",
   "metadata": {},
   "outputs": [],
   "source": [
    "atribbutes = data.iloc[:,:34]\n",
    "target = data.iloc[:,34]"
   ]
  },
  {
   "cell_type": "markdown",
   "id": "ready-duncan",
   "metadata": {},
   "source": [
    "#### Separar em bases de teste e treino"
   ]
  },
  {
   "cell_type": "code",
   "execution_count": null,
   "id": "amber-highway",
   "metadata": {},
   "outputs": [],
   "source": [
    "def train_test_split(data,target,size=0.3):\n",
    "    "
   ]
  }
 ],
 "metadata": {
  "kernelspec": {
   "display_name": "Python 3",
   "language": "python",
   "name": "python3"
  },
  "language_info": {
   "codemirror_mode": {
    "name": "ipython",
    "version": 3
   },
   "file_extension": ".py",
   "mimetype": "text/x-python",
   "name": "python",
   "nbconvert_exporter": "python",
   "pygments_lexer": "ipython3",
   "version": "3.8.5"
  }
 },
 "nbformat": 4,
 "nbformat_minor": 5
}
