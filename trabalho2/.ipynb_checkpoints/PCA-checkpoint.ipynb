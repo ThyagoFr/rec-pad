{
 "cells": [
  {
   "cell_type": "markdown",
   "metadata": {},
   "source": [
    "# Introdução ao Reconhecimento de Padrões, 2020.2, UFC/DETI\n",
    "## Trabalho 2\n",
    "\n",
    "Aluno : Thyago Freitas da Silva <br>\n",
    "Matrícula : 392035"
   ]
  },
  {
   "cell_type": "code",
   "execution_count": 1,
   "metadata": {},
   "outputs": [],
   "source": [
    "import numpy as np\n",
    "import operator\n",
    "import collections\n",
    "import pandas\n",
    "from random import randrange\n",
    "from sklearn.metrics import confusion_matrix as cm\n",
    "#from sklearn.datasets import load_iris\n",
    "#from sklearn.model_selection import train_test_split\n",
    "#from sklearn.metrics import accuracy_score"
   ]
  },
  {
   "cell_type": "markdown",
   "metadata": {},
   "source": [
    "### Leitura da base \"demartology\""
   ]
  },
  {
   "cell_type": "code",
   "execution_count": 44,
   "metadata": {
    "scrolled": true
   },
   "outputs": [
    {
     "name": "stdout",
     "output_type": "stream",
     "text": [
      "<class 'pandas.core.frame.DataFrame'>\n",
      "RangeIndex: 366 entries, 0 to 365\n",
      "Data columns (total 35 columns):\n",
      " #   Column  Non-Null Count  Dtype \n",
      "---  ------  --------------  ----- \n",
      " 0   0       366 non-null    int64 \n",
      " 1   1       366 non-null    int64 \n",
      " 2   2       366 non-null    int64 \n",
      " 3   3       366 non-null    int64 \n",
      " 4   4       366 non-null    int64 \n",
      " 5   5       366 non-null    int64 \n",
      " 6   6       366 non-null    int64 \n",
      " 7   7       366 non-null    int64 \n",
      " 8   8       366 non-null    int64 \n",
      " 9   9       366 non-null    int64 \n",
      " 10  10      366 non-null    int64 \n",
      " 11  11      366 non-null    int64 \n",
      " 12  12      366 non-null    int64 \n",
      " 13  13      366 non-null    int64 \n",
      " 14  14      366 non-null    int64 \n",
      " 15  15      366 non-null    int64 \n",
      " 16  16      366 non-null    int64 \n",
      " 17  17      366 non-null    int64 \n",
      " 18  18      366 non-null    int64 \n",
      " 19  19      366 non-null    int64 \n",
      " 20  20      366 non-null    int64 \n",
      " 21  21      366 non-null    int64 \n",
      " 22  22      366 non-null    int64 \n",
      " 23  23      366 non-null    int64 \n",
      " 24  24      366 non-null    int64 \n",
      " 25  25      366 non-null    int64 \n",
      " 26  26      366 non-null    int64 \n",
      " 27  27      366 non-null    int64 \n",
      " 28  28      366 non-null    int64 \n",
      " 29  29      366 non-null    int64 \n",
      " 30  30      366 non-null    int64 \n",
      " 31  31      366 non-null    int64 \n",
      " 32  32      366 non-null    int64 \n",
      " 33  33      366 non-null    object\n",
      " 34  34      366 non-null    int64 \n",
      "dtypes: int64(34), object(1)\n",
      "memory usage: 100.2+ KB\n"
     ]
    }
   ],
   "source": [
    "data = pandas.read_csv(\"./data/dermatology.csv\", header=None)\n",
    "data.info()"
   ]
  },
  {
   "cell_type": "markdown",
   "metadata": {},
   "source": [
    "#### Pre-processamento\n",
    "\n",
    "Olhando o conteúdo do arquivo, foi notado que algumas linhas da coluna 33 (band-like infiltrate) apresentam valores marcados com \"?\" que atrapalham o resultado do algoritmo. Para remediar esse problema , decidi trocar os valores faltantes demarcados por \"?\" pela mediana da coluna 33, pois tal medida é menos sensível a outliers se comparado com a média, por exemplo."
   ]
  },
  {
   "cell_type": "code",
   "execution_count": 45,
   "metadata": {},
   "outputs": [],
   "source": [
    "def calc_median(array):\n",
    "    values = []\n",
    "    for v in array:\n",
    "        if v != '?':\n",
    "            v = int(v)\n",
    "            values.append(v)\n",
    "    return np.median(values)\n",
    "\n",
    "median = calc_median(data.iloc[:,33])\n",
    "data.iloc[:,33] = list(map(lambda value: median if value == '?' else value, data.iloc[:,33]))\n",
    "data.iloc[:,33] = data.iloc[:,33].astype(np.int64)"
   ]
  },
  {
   "cell_type": "markdown",
   "metadata": {},
   "source": [
    "### Principal Component Analysis"
   ]
  },
  {
   "cell_type": "markdown",
   "metadata": {},
   "source": [
    "#### Remover a média de todas as features"
   ]
  },
  {
   "cell_type": "code",
   "execution_count": 46,
   "metadata": {},
   "outputs": [
    {
     "name": "stdout",
     "output_type": "stream",
     "text": [
      "<class 'pandas.core.frame.DataFrame'>\n",
      "RangeIndex: 366 entries, 0 to 365\n",
      "Data columns (total 35 columns):\n",
      " #   Column  Non-Null Count  Dtype  \n",
      "---  ------  --------------  -----  \n",
      " 0   0       366 non-null    float64\n",
      " 1   1       366 non-null    float64\n",
      " 2   2       366 non-null    float64\n",
      " 3   3       366 non-null    float64\n",
      " 4   4       366 non-null    float64\n",
      " 5   5       366 non-null    float64\n",
      " 6   6       366 non-null    float64\n",
      " 7   7       366 non-null    float64\n",
      " 8   8       366 non-null    float64\n",
      " 9   9       366 non-null    float64\n",
      " 10  10      366 non-null    float64\n",
      " 11  11      366 non-null    float64\n",
      " 12  12      366 non-null    float64\n",
      " 13  13      366 non-null    float64\n",
      " 14  14      366 non-null    float64\n",
      " 15  15      366 non-null    float64\n",
      " 16  16      366 non-null    float64\n",
      " 17  17      366 non-null    float64\n",
      " 18  18      366 non-null    float64\n",
      " 19  19      366 non-null    float64\n",
      " 20  20      366 non-null    float64\n",
      " 21  21      366 non-null    float64\n",
      " 22  22      366 non-null    float64\n",
      " 23  23      366 non-null    float64\n",
      " 24  24      366 non-null    float64\n",
      " 25  25      366 non-null    float64\n",
      " 26  26      366 non-null    float64\n",
      " 27  27      366 non-null    float64\n",
      " 28  28      366 non-null    float64\n",
      " 29  29      366 non-null    float64\n",
      " 30  30      366 non-null    float64\n",
      " 31  31      366 non-null    float64\n",
      " 32  32      366 non-null    float64\n",
      " 33  33      366 non-null    float64\n",
      " 34  34      366 non-null    float64\n",
      "dtypes: float64(35)\n",
      "memory usage: 100.2 KB\n"
     ]
    }
   ],
   "source": [
    "def remove_median(dataframe):\n",
    "    columns = data.columns.values\n",
    "    for c in columns:\n",
    "        mean = data[c].mean()\n",
    "        data[c] = data[c].apply(lambda value : value - mean)\n",
    "    return dataframe\n",
    "\n",
    "data = remove_median(data)\n",
    "data.info()"
   ]
  },
  {
   "cell_type": "markdown",
   "metadata": {},
   "source": [
    "#### Calcular a matriz de covariância"
   ]
  },
  {
   "cell_type": "code",
   "execution_count": 47,
   "metadata": {},
   "outputs": [
    {
     "name": "stdout",
     "output_type": "stream",
     "text": [
      "(35, 35)\n"
     ]
    }
   ],
   "source": [
    "def calc_cov(dataframe):\n",
    "    return np.cov(dataframe, rowvar = False)\n",
    "\n",
    "data = calc_cov(data)\n",
    "print(data.shape)"
   ]
  },
  {
   "cell_type": "markdown",
   "metadata": {},
   "source": [
    "#### Calcular os autovetores e autovalores"
   ]
  },
  {
   "cell_type": "code",
   "execution_count": 69,
   "metadata": {},
   "outputs": [
    {
     "ename": "IndexError",
     "evalue": "list index out of range",
     "output_type": "error",
     "traceback": [
      "\u001b[0;31m---------------------------------------------------------------------------\u001b[0m",
      "\u001b[0;31mIndexError\u001b[0m                                Traceback (most recent call last)",
      "\u001b[0;32m<ipython-input-69-81a3c9543f79>\u001b[0m in \u001b[0;36m<module>\u001b[0;34m\u001b[0m\n\u001b[1;32m     23\u001b[0m \u001b[0meigen_values\u001b[0m \u001b[0;34m,\u001b[0m \u001b[0meigen_vectors\u001b[0m \u001b[0;34m=\u001b[0m \u001b[0mcalc_eigen_values_and_vectors\u001b[0m\u001b[0;34m(\u001b[0m\u001b[0mdata\u001b[0m\u001b[0;34m)\u001b[0m\u001b[0;34m\u001b[0m\u001b[0;34m\u001b[0m\u001b[0m\n\u001b[1;32m     24\u001b[0m \u001b[0;31m### eigen_values[0][1]\u001b[0m\u001b[0;34m\u001b[0m\u001b[0;34m\u001b[0m\u001b[0;34m\u001b[0m\u001b[0m\n\u001b[0;32m---> 25\u001b[0;31m \u001b[0mprint\u001b[0m\u001b[0;34m(\u001b[0m\u001b[0mget_best_eigen_per_percentual\u001b[0m\u001b[0;34m(\u001b[0m\u001b[0meigen_values\u001b[0m \u001b[0;34m,\u001b[0m \u001b[0meigen_vectors\u001b[0m\u001b[0;34m,\u001b[0m \u001b[0;36m95\u001b[0m\u001b[0;34m)\u001b[0m\u001b[0;34m)\u001b[0m\u001b[0;34m\u001b[0m\u001b[0;34m\u001b[0m\u001b[0m\n\u001b[0m",
      "\u001b[0;32m<ipython-input-69-81a3c9543f79>\u001b[0m in \u001b[0;36mget_best_eigen_per_percentual\u001b[0;34m(eigen_values, eigen_vectors, percentual)\u001b[0m\n\u001b[1;32m     16\u001b[0m     \u001b[0mbest_eigen_vectors\u001b[0m \u001b[0;34m=\u001b[0m \u001b[0;34m[\u001b[0m\u001b[0;34m]\u001b[0m\u001b[0;34m\u001b[0m\u001b[0;34m\u001b[0m\u001b[0m\n\u001b[1;32m     17\u001b[0m     \u001b[0;32mwhile\u001b[0m \u001b[0mtotal\u001b[0m \u001b[0;34m<=\u001b[0m \u001b[0mpercentual\u001b[0m\u001b[0;34m:\u001b[0m\u001b[0;34m\u001b[0m\u001b[0;34m\u001b[0m\u001b[0m\n\u001b[0;32m---> 18\u001b[0;31m         \u001b[0mtotal\u001b[0m \u001b[0;34m+=\u001b[0m \u001b[0meigen_values\u001b[0m\u001b[0;34m[\u001b[0m\u001b[0mindex\u001b[0m\u001b[0;34m]\u001b[0m\u001b[0;34m[\u001b[0m\u001b[0;36m1\u001b[0m\u001b[0;34m]\u001b[0m\u001b[0;34m/\u001b[0m\u001b[0mnp\u001b[0m\u001b[0;34m.\u001b[0m\u001b[0msum\u001b[0m\u001b[0;34m(\u001b[0m\u001b[0meigen_vectors\u001b[0m\u001b[0;34m[\u001b[0m\u001b[0mindex\u001b[0m\u001b[0;34m]\u001b[0m\u001b[0;34m)\u001b[0m\u001b[0;34m\u001b[0m\u001b[0;34m\u001b[0m\u001b[0m\n\u001b[0m\u001b[1;32m     19\u001b[0m         \u001b[0mbest_eigen_vectors\u001b[0m\u001b[0;34m.\u001b[0m\u001b[0mappend\u001b[0m\u001b[0;34m(\u001b[0m\u001b[0meigen_vectors\u001b[0m\u001b[0;34m[\u001b[0m\u001b[0mindex\u001b[0m\u001b[0;34m]\u001b[0m\u001b[0;34m)\u001b[0m\u001b[0;34m\u001b[0m\u001b[0;34m\u001b[0m\u001b[0m\n\u001b[1;32m     20\u001b[0m         \u001b[0mindex\u001b[0m \u001b[0;34m+=\u001b[0m \u001b[0;36m1\u001b[0m\u001b[0;34m\u001b[0m\u001b[0;34m\u001b[0m\u001b[0m\n",
      "\u001b[0;31mIndexError\u001b[0m: list index out of range"
     ]
    }
   ],
   "source": [
    "def calc_eigen_values_and_vectors(data):\n",
    "    eigen_values , eigen_vectors = np.linalg.eigh(data)\n",
    "    tuple_eigen_values = []\n",
    "    index = 0\n",
    "    for e in eigen_values:\n",
    "        tuple_eigen_values.append((index,e))\n",
    "        index += 1\n",
    "\n",
    "    sorted_eigen_values = sorted(tuple_eigen_values, key = lambda x: x[1], reverse = True)\n",
    "    sorted_eigen_vectors = [eigen_vectors[index[0]] for index in sorted_eigen_values]\n",
    "    return sorted_eigen_values,sorted_eigen_vectors\n",
    "\n",
    "def get_best_eigen_per_percentual(eigen_values,eigen_vectors,percentual):\n",
    "    total = 0\n",
    "    index = 0\n",
    "    best_eigen_vectors = []\n",
    "    for index in range(len(eigen_values)):\n",
    "        total += eigen_values[index][1]/np.sum(eigen_vectors[index])\n",
    "        best_eigen_vectors.append(eigen_vectors[index])\n",
    "    return best_eigen_vectors\n",
    "\n",
    "eigen_values , eigen_vectors = calc_eigen_values_and_vectors(data)\n",
    "### eigen_values[0][1]\n",
    "print(get_best_eigen_per_percentual(eigen_values , eigen_vectors, 95))"
   ]
  }
 ],
 "metadata": {
  "kernelspec": {
   "display_name": "Python 3",
   "language": "python",
   "name": "python3"
  },
  "language_info": {
   "codemirror_mode": {
    "name": "ipython",
    "version": 3
   },
   "file_extension": ".py",
   "mimetype": "text/x-python",
   "name": "python",
   "nbconvert_exporter": "python",
   "pygments_lexer": "ipython3",
   "version": "3.8.5"
  }
 },
 "nbformat": 4,
 "nbformat_minor": 2
}
