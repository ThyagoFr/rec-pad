{
 "cells": [
  {
   "cell_type": "markdown",
   "metadata": {},
   "source": [
    "# Introdução ao Reconhecimento de Padrões, 2020.2, UFC/DETI\n",
    "## Trabalho 2\n",
    "\n",
    "Aluno : Thyago Freitas da Silva <br>\n",
    "Matrícula : 392035"
   ]
  },
  {
   "cell_type": "code",
   "execution_count": 97,
   "metadata": {},
   "outputs": [],
   "source": [
    "import numpy as np\n",
    "import operator\n",
    "import collections\n",
    "import pandas\n",
    "from random import randrange\n",
    "from sklearn.metrics import confusion_matrix as cm\n",
    "#from sklearn.datasets import load_iris\n",
    "#from sklearn.model_selection import train_test_split\n",
    "#from sklearn.metrics import accuracy_score"
   ]
  },
  {
   "cell_type": "markdown",
   "metadata": {},
   "source": [
    "### Leitura da base \"demartology\""
   ]
  },
  {
   "cell_type": "code",
   "execution_count": 98,
   "metadata": {
    "scrolled": true
   },
   "outputs": [
    {
     "name": "stdout",
     "output_type": "stream",
     "text": [
      "<class 'pandas.core.frame.DataFrame'>\n",
      "RangeIndex: 366 entries, 0 to 365\n",
      "Data columns (total 35 columns):\n",
      " #   Column  Non-Null Count  Dtype \n",
      "---  ------  --------------  ----- \n",
      " 0   0       366 non-null    int64 \n",
      " 1   1       366 non-null    int64 \n",
      " 2   2       366 non-null    int64 \n",
      " 3   3       366 non-null    int64 \n",
      " 4   4       366 non-null    int64 \n",
      " 5   5       366 non-null    int64 \n",
      " 6   6       366 non-null    int64 \n",
      " 7   7       366 non-null    int64 \n",
      " 8   8       366 non-null    int64 \n",
      " 9   9       366 non-null    int64 \n",
      " 10  10      366 non-null    int64 \n",
      " 11  11      366 non-null    int64 \n",
      " 12  12      366 non-null    int64 \n",
      " 13  13      366 non-null    int64 \n",
      " 14  14      366 non-null    int64 \n",
      " 15  15      366 non-null    int64 \n",
      " 16  16      366 non-null    int64 \n",
      " 17  17      366 non-null    int64 \n",
      " 18  18      366 non-null    int64 \n",
      " 19  19      366 non-null    int64 \n",
      " 20  20      366 non-null    int64 \n",
      " 21  21      366 non-null    int64 \n",
      " 22  22      366 non-null    int64 \n",
      " 23  23      366 non-null    int64 \n",
      " 24  24      366 non-null    int64 \n",
      " 25  25      366 non-null    int64 \n",
      " 26  26      366 non-null    int64 \n",
      " 27  27      366 non-null    int64 \n",
      " 28  28      366 non-null    int64 \n",
      " 29  29      366 non-null    int64 \n",
      " 30  30      366 non-null    int64 \n",
      " 31  31      366 non-null    int64 \n",
      " 32  32      366 non-null    int64 \n",
      " 33  33      366 non-null    object\n",
      " 34  34      366 non-null    int64 \n",
      "dtypes: int64(34), object(1)\n",
      "memory usage: 100.2+ KB\n"
     ]
    }
   ],
   "source": [
    "data = pandas.read_csv(\"./data/dermatology.csv\", header=None)\n",
    "data.info()"
   ]
  },
  {
   "cell_type": "markdown",
   "metadata": {},
   "source": [
    "#### Pre-processamento\n",
    "\n",
    "Olhando o conteúdo do arquivo, foi notado que algumas linhas da coluna 33 (band-like infiltrate) apresentam valores marcados com \"?\" que atrapalham o resultado do algoritmo. Para remediar esse problema , decidi trocar os valores faltantes demarcados por \"?\" pela mediana da coluna 33, pois tal medida é menos sensível a outliers se comparado com a média, por exemplo."
   ]
  },
  {
   "cell_type": "code",
   "execution_count": 99,
   "metadata": {},
   "outputs": [],
   "source": [
    "def calc_median(array):\n",
    "    values = []\n",
    "    for v in array:\n",
    "        if v != '?':\n",
    "            v = int(v)\n",
    "            values.append(v)\n",
    "    return np.median(values)\n",
    "\n",
    "median = calc_median(data.iloc[:,33])\n",
    "data.iloc[:,33] = list(map(lambda value: median if value == '?' else value, data.iloc[:,33]))\n",
    "data.iloc[:,33] = data.iloc[:,33].astype(np.int64)"
   ]
  },
  {
   "cell_type": "markdown",
   "metadata": {},
   "source": [
    "### Principal Component Analysis\n",
    "\n",
    "Abaixo temos os passos necessários para calcular o PCA.\n",
    "\n",
    "<ol>\n",
    "<li>Calcular médias de todas as features e subtrair as mesmas de cada feature</li>\n",
    "<li>Calcular matriz de covariância com base nos dados modificados pelo passo 1</li>\n",
    "<li>Calcular autovetores e autovalores</li>\n",
    "<li>Escolher o número Q que representa a quantidade de autovetores</li>\n",
    "<li>Multiplicar os autovetores escolhidos pela matriz resultante do passo 1</li>\n",
    "</ol>"
   ]
  },
  {
   "cell_type": "markdown",
   "metadata": {},
   "source": [
    "#### Passo 1 -  Calcular médias de todas as features e subtrair as mesmas de cada feature"
   ]
  },
  {
   "cell_type": "code",
   "execution_count": 1,
   "metadata": {},
   "outputs": [],
   "source": [
    "def remove_median(dataframe):\n",
    "    columns = data.columns.values\n",
    "    for c in columns:\n",
    "        mean = data[c].mean()\n",
    "        data[c] = data[c].apply(lambda value : value - mean)\n",
    "    return dataframe"
   ]
  },
  {
   "cell_type": "markdown",
   "metadata": {},
   "source": [
    "#### Passo 2 - Calcular matriz de covariância com base nos dados modificados pelo passo 1"
   ]
  },
  {
   "cell_type": "code",
   "execution_count": 2,
   "metadata": {},
   "outputs": [],
   "source": [
    "def calc_cov(dataframe):\n",
    "    return np.cov(dataframe, rowvar = False)"
   ]
  },
  {
   "cell_type": "markdown",
   "metadata": {},
   "source": [
    "#### Passo 3 - Calcular autovetores e autovalores"
   ]
  },
  {
   "cell_type": "code",
   "execution_count": 6,
   "metadata": {
    "scrolled": true
   },
   "outputs": [],
   "source": [
    "def calc_eigen_values_and_vectors(data):\n",
    "    eigen_values , eigen_vectors = np.linalg.eigh(data)\n",
    "    sorted_index = np.argsort(eigen_values)[::-1]\n",
    "    sorted_eigenvalue = eigen_values[sorted_index]\n",
    "    sorted_eigenvectors = eigen_vectors[:,sorted_index]\n",
    "    return sorted_eigenvalue,sorted_eigenvectors"
   ]
  },
  {
   "cell_type": "markdown",
   "metadata": {},
   "source": [
    "#### Passo 4 - Escolher o número Q que representa a quantidade de autovetores"
   ]
  },
  {
   "cell_type": "code",
   "execution_count": 4,
   "metadata": {},
   "outputs": [],
   "source": [
    "def chooseQ(eigen_values,eigen_vectors,percentual):\n",
    "    total = 0\n",
    "    Q = 0\n",
    "    for index in range(len(eigen_values)):\n",
    "        total += eigen_values[index]/np.sum(eigen_values)\n",
    "        Q += 1\n",
    "        if total >= percentual:\n",
    "            break\n",
    "    return Q"
   ]
  },
  {
   "cell_type": "markdown",
   "metadata": {},
   "source": [
    "#### Passo 5 - Multiplicar os autovetores escolhidos pela matriz resultante do passo 1"
   ]
  },
  {
   "cell_type": "code",
   "execution_count": 5,
   "metadata": {},
   "outputs": [],
   "source": [
    "def pca(dataframe, eigen_vectors):\n",
    "    return np.dot(eigen_vectors.transpose() , dataframe.transpose() ).transpose()"
   ]
  },
  {
   "cell_type": "code",
   "execution_count": 8,
   "metadata": {},
   "outputs": [],
   "source": [
    "## eigen_values , eigen_vectors = calc_eigen_values_and_vectors(data)\n",
    "## q = chooseQ(eigen_values , eigen_vectors, 0.95)\n",
    "## print(eigen_vectors[:q,])\n",
    "## print(pca(data,eigen_vectors[:,:q]))"
   ]
  }
 ],
 "metadata": {
  "kernelspec": {
   "display_name": "Python 3",
   "language": "python",
   "name": "python3"
  },
  "language_info": {
   "codemirror_mode": {
    "name": "ipython",
    "version": 3
   },
   "file_extension": ".py",
   "mimetype": "text/x-python",
   "name": "python",
   "nbconvert_exporter": "python",
   "pygments_lexer": "ipython3",
   "version": "3.8.5"
  }
 },
 "nbformat": 4,
 "nbformat_minor": 2
}
